{
 "cells": [
  {
   "cell_type": "code",
   "execution_count": 1,
   "metadata": {},
   "outputs": [
    {
     "name": "stderr",
     "output_type": "stream",
     "text": [
      "c:\\Users\\marou\\miniconda3\\envs\\wikipedia\\lib\\site-packages\\fuzzywuzzy\\fuzz.py:11: UserWarning: Using slow pure-python SequenceMatcher. Install python-Levenshtein to remove this warning\n",
      "  warnings.warn('Using slow pure-python SequenceMatcher. Install python-Levenshtein to remove this warning')\n"
     ]
    }
   ],
   "source": [
    "import os\n",
    "os.environ[\"KMP_DUPLICATE_LIB_OK\"]=\"TRUE\"\n",
    "from ultralytics import YOLO\n",
    "import cv2\n",
    "import plotly.graph_objects as go\n",
    "from fuzzywuzzy import process\n",
    "\n"
   ]
  },
  {
   "cell_type": "code",
   "execution_count": 11,
   "metadata": {},
   "outputs": [],
   "source": [
    "import time"
   ]
  },
  {
   "cell_type": "code",
   "execution_count": 2,
   "metadata": {},
   "outputs": [],
   "source": [
    "from paddleocr import PaddleOCR\n",
    "ocr= PaddleOCR(lang='en',show_log=False,show_warning=False,use_gpu=True)"
   ]
  },
  {
   "cell_type": "code",
   "execution_count": 3,
   "metadata": {},
   "outputs": [],
   "source": [
    "model = YOLO(\"./runs/detect/train16/weights/best.pt\")"
   ]
  },
  {
   "cell_type": "code",
   "execution_count": 7,
   "metadata": {},
   "outputs": [
    {
     "name": "stdout",
     "output_type": "stream",
     "text": [
      "\n",
      "image 1/1 C:\\Users\\marou\\Pictures\\Screenshots\\wikisc.png: 320x640 1 button, 77 links, 3 labels, 13 texts, 12 images, 307.6ms\n",
      "Speed: 3.0ms preprocess, 307.6ms inference, 1.0ms postprocess per image at shape (1, 3, 320, 640)\n"
     ]
    }
   ],
   "source": [
    "results = model(\"C:\\\\Users\\\\marou\\\\Pictures\\\\Screenshots\\\\wikisc.png\")"
   ]
  },
  {
   "cell_type": "code",
   "execution_count": 8,
   "metadata": {},
   "outputs": [],
   "source": [
    "img_path=\"C:\\\\Users\\\\marou\\\\Pictures\\\\Screenshots\\\\wikisc.png\""
   ]
  },
  {
   "cell_type": "code",
   "execution_count": 9,
   "metadata": {},
   "outputs": [
    {
     "data": {
      "text/plain": [
       "{0: 'button',\n",
       " 1: 'heading',\n",
       " 2: 'link',\n",
       " 3: 'label',\n",
       " 4: 'text',\n",
       " 5: 'image',\n",
       " 6: 'iframe'}"
      ]
     },
     "execution_count": 9,
     "metadata": {},
     "output_type": "execute_result"
    }
   ],
   "source": [
    "names=model.names\n",
    "names"
   ]
  },
  {
   "cell_type": "code",
   "execution_count": 12,
   "metadata": {},
   "outputs": [],
   "source": [
    "def infer(image_path):\n",
    "    start_time=time.time()\n",
    "    image = cv2.imread(image_path)\n",
    "    color = (0, 255, 0)  # Green\n",
    "    thickness = 2\n",
    "\n",
    "    results = model.predict(source=image, save=False)\n",
    "    for elt in results:\n",
    "        boxes = elt.boxes\n",
    "        objects = [{} for _ in range(len(boxes))]\n",
    "        for i, c in enumerate(boxes.cls):\n",
    "            objects[i][\"class\"] = names[int(c)]\n",
    "\n",
    "        box = elt.boxes.xyxy\n",
    "        boxes_np = box.cpu().numpy()\n",
    "\n",
    "        for i, row in enumerate(boxes_np):\n",
    "            x1, y1, x2, y2 = row\n",
    "            objects[i][\"box\"] = (int(x1), int(y1), int(x2), int(y2))\n",
    "\n",
    "            # Crop the region of interest (ROI) from the original image\n",
    "            roi = image[int(y1):int(y2), int(x1):int(x2)]\n",
    "\n",
    "            # Convert the ROI to a format suitable for PaddleOCR\n",
    "            roi_np = cv2.cvtColor(roi, cv2.COLOR_BGR2RGB)\n",
    "\n",
    "\n",
    "            if len(roi_np) >0:\n",
    "            # Apply OCR to the ROI\n",
    "                ocr_results = ocr.ocr(roi_np,)\n",
    "                # print(ocr_results)\n",
    "            # Process OCR results and store them in the 'objects' dictionary\n",
    "            texts = []\n",
    "            if(ocr_results[0]):\n",
    "                for line in ocr_results[0]:\n",
    "                    _, (text, confidence) = line\n",
    "                    texts.append({\"text\": text, \"confidence\": confidence})\n",
    "\n",
    "            objects[i][\"text\"] = texts\n",
    "    end_time=time.time()\n",
    "    execution_time = end_time - start_time\n",
    "    print(f\"Execution time: {execution_time:.4f} seconds\")\n",
    "\n",
    "    return objects"
   ]
  },
  {
   "cell_type": "code",
   "execution_count": 19,
   "metadata": {},
   "outputs": [
    {
     "name": "stdout",
     "output_type": "stream",
     "text": [
      "\n",
      "0: 384x640 9 buttons, 2 headings, 97 links, 4 labels, 4 texts, 5 images, 648.6ms\n",
      "Speed: 3.0ms preprocess, 648.6ms inference, 1.0ms postprocess per image at shape (1, 3, 384, 640)\n",
      "[2024/06/24 05:11:40] ppocr WARNING: Since the angle classifier is not initialized, it will not be used during the forward process\n",
      "[2024/06/24 05:11:40] ppocr WARNING: Since the angle classifier is not initialized, it will not be used during the forward process\n",
      "[2024/06/24 05:11:40] ppocr WARNING: Since the angle classifier is not initialized, it will not be used during the forward process\n",
      "[2024/06/24 05:11:40] ppocr WARNING: Since the angle classifier is not initialized, it will not be used during the forward process\n",
      "[2024/06/24 05:11:40] ppocr WARNING: Since the angle classifier is not initialized, it will not be used during the forward process\n",
      "[2024/06/24 05:11:40] ppocr WARNING: Since the angle classifier is not initialized, it will not be used during the forward process\n",
      "[2024/06/24 05:11:40] ppocr WARNING: Since the angle classifier is not initialized, it will not be used during the forward process\n",
      "[2024/06/24 05:11:40] ppocr WARNING: Since the angle classifier is not initialized, it will not be used during the forward process\n",
      "[2024/06/24 05:11:40] ppocr WARNING: Since the angle classifier is not initialized, it will not be used during the forward process\n",
      "[2024/06/24 05:11:40] ppocr WARNING: Since the angle classifier is not initialized, it will not be used during the forward process\n",
      "[2024/06/24 05:11:40] ppocr WARNING: Since the angle classifier is not initialized, it will not be used during the forward process\n",
      "[2024/06/24 05:11:40] ppocr WARNING: Since the angle classifier is not initialized, it will not be used during the forward process\n",
      "[2024/06/24 05:11:40] ppocr WARNING: Since the angle classifier is not initialized, it will not be used during the forward process\n",
      "[2024/06/24 05:11:40] ppocr WARNING: Since the angle classifier is not initialized, it will not be used during the forward process\n",
      "[2024/06/24 05:11:40] ppocr WARNING: Since the angle classifier is not initialized, it will not be used during the forward process\n",
      "[2024/06/24 05:11:40] ppocr WARNING: Since the angle classifier is not initialized, it will not be used during the forward process\n",
      "[2024/06/24 05:11:40] ppocr WARNING: Since the angle classifier is not initialized, it will not be used during the forward process\n",
      "[2024/06/24 05:11:40] ppocr WARNING: Since the angle classifier is not initialized, it will not be used during the forward process\n",
      "[2024/06/24 05:11:40] ppocr WARNING: Since the angle classifier is not initialized, it will not be used during the forward process\n",
      "[2024/06/24 05:11:40] ppocr WARNING: Since the angle classifier is not initialized, it will not be used during the forward process\n",
      "[2024/06/24 05:11:40] ppocr WARNING: Since the angle classifier is not initialized, it will not be used during the forward process\n",
      "[2024/06/24 05:11:40] ppocr WARNING: Since the angle classifier is not initialized, it will not be used during the forward process\n",
      "[2024/06/24 05:11:40] ppocr WARNING: Since the angle classifier is not initialized, it will not be used during the forward process\n",
      "[2024/06/24 05:11:40] ppocr WARNING: Since the angle classifier is not initialized, it will not be used during the forward process\n",
      "[2024/06/24 05:11:40] ppocr WARNING: Since the angle classifier is not initialized, it will not be used during the forward process\n",
      "[2024/06/24 05:11:40] ppocr WARNING: Since the angle classifier is not initialized, it will not be used during the forward process\n",
      "[2024/06/24 05:11:40] ppocr WARNING: Since the angle classifier is not initialized, it will not be used during the forward process\n",
      "[2024/06/24 05:11:40] ppocr WARNING: Since the angle classifier is not initialized, it will not be used during the forward process\n",
      "[2024/06/24 05:11:40] ppocr WARNING: Since the angle classifier is not initialized, it will not be used during the forward process\n",
      "[2024/06/24 05:11:41] ppocr WARNING: Since the angle classifier is not initialized, it will not be used during the forward process\n",
      "[2024/06/24 05:11:41] ppocr WARNING: Since the angle classifier is not initialized, it will not be used during the forward process\n",
      "[2024/06/24 05:11:41] ppocr WARNING: Since the angle classifier is not initialized, it will not be used during the forward process\n",
      "[2024/06/24 05:11:41] ppocr WARNING: Since the angle classifier is not initialized, it will not be used during the forward process\n",
      "[2024/06/24 05:11:41] ppocr WARNING: Since the angle classifier is not initialized, it will not be used during the forward process\n",
      "[2024/06/24 05:11:41] ppocr WARNING: Since the angle classifier is not initialized, it will not be used during the forward process\n",
      "[2024/06/24 05:11:41] ppocr WARNING: Since the angle classifier is not initialized, it will not be used during the forward process\n",
      "[2024/06/24 05:11:41] ppocr WARNING: Since the angle classifier is not initialized, it will not be used during the forward process\n",
      "[2024/06/24 05:11:41] ppocr WARNING: Since the angle classifier is not initialized, it will not be used during the forward process\n",
      "[2024/06/24 05:11:41] ppocr WARNING: Since the angle classifier is not initialized, it will not be used during the forward process\n",
      "[2024/06/24 05:11:41] ppocr WARNING: Since the angle classifier is not initialized, it will not be used during the forward process\n",
      "[2024/06/24 05:11:41] ppocr WARNING: Since the angle classifier is not initialized, it will not be used during the forward process\n",
      "[2024/06/24 05:11:41] ppocr WARNING: Since the angle classifier is not initialized, it will not be used during the forward process\n",
      "[2024/06/24 05:11:41] ppocr WARNING: Since the angle classifier is not initialized, it will not be used during the forward process\n",
      "[2024/06/24 05:11:41] ppocr WARNING: Since the angle classifier is not initialized, it will not be used during the forward process\n",
      "[2024/06/24 05:11:41] ppocr WARNING: Since the angle classifier is not initialized, it will not be used during the forward process\n",
      "[2024/06/24 05:11:41] ppocr WARNING: Since the angle classifier is not initialized, it will not be used during the forward process\n",
      "[2024/06/24 05:11:41] ppocr WARNING: Since the angle classifier is not initialized, it will not be used during the forward process\n",
      "[2024/06/24 05:11:41] ppocr WARNING: Since the angle classifier is not initialized, it will not be used during the forward process\n",
      "[2024/06/24 05:11:41] ppocr WARNING: Since the angle classifier is not initialized, it will not be used during the forward process\n",
      "[2024/06/24 05:11:41] ppocr WARNING: Since the angle classifier is not initialized, it will not be used during the forward process\n",
      "[2024/06/24 05:11:41] ppocr WARNING: Since the angle classifier is not initialized, it will not be used during the forward process\n",
      "[2024/06/24 05:11:41] ppocr WARNING: Since the angle classifier is not initialized, it will not be used during the forward process\n",
      "[2024/06/24 05:11:41] ppocr WARNING: Since the angle classifier is not initialized, it will not be used during the forward process\n",
      "[2024/06/24 05:11:41] ppocr WARNING: Since the angle classifier is not initialized, it will not be used during the forward process\n",
      "[2024/06/24 05:11:41] ppocr WARNING: Since the angle classifier is not initialized, it will not be used during the forward process\n",
      "[2024/06/24 05:11:41] ppocr WARNING: Since the angle classifier is not initialized, it will not be used during the forward process\n",
      "[2024/06/24 05:11:41] ppocr WARNING: Since the angle classifier is not initialized, it will not be used during the forward process\n",
      "[2024/06/24 05:11:41] ppocr WARNING: Since the angle classifier is not initialized, it will not be used during the forward process\n",
      "[2024/06/24 05:11:41] ppocr WARNING: Since the angle classifier is not initialized, it will not be used during the forward process\n",
      "[2024/06/24 05:11:41] ppocr WARNING: Since the angle classifier is not initialized, it will not be used during the forward process\n",
      "[2024/06/24 05:11:41] ppocr WARNING: Since the angle classifier is not initialized, it will not be used during the forward process\n",
      "[2024/06/24 05:11:42] ppocr WARNING: Since the angle classifier is not initialized, it will not be used during the forward process\n",
      "[2024/06/24 05:11:42] ppocr WARNING: Since the angle classifier is not initialized, it will not be used during the forward process\n",
      "[2024/06/24 05:11:42] ppocr WARNING: Since the angle classifier is not initialized, it will not be used during the forward process\n",
      "[2024/06/24 05:11:42] ppocr WARNING: Since the angle classifier is not initialized, it will not be used during the forward process\n",
      "[2024/06/24 05:11:42] ppocr WARNING: Since the angle classifier is not initialized, it will not be used during the forward process\n",
      "[2024/06/24 05:11:42] ppocr WARNING: Since the angle classifier is not initialized, it will not be used during the forward process\n",
      "[2024/06/24 05:11:42] ppocr WARNING: Since the angle classifier is not initialized, it will not be used during the forward process\n",
      "[2024/06/24 05:11:42] ppocr WARNING: Since the angle classifier is not initialized, it will not be used during the forward process\n",
      "[2024/06/24 05:11:42] ppocr WARNING: Since the angle classifier is not initialized, it will not be used during the forward process\n",
      "[2024/06/24 05:11:42] ppocr WARNING: Since the angle classifier is not initialized, it will not be used during the forward process\n",
      "[2024/06/24 05:11:42] ppocr WARNING: Since the angle classifier is not initialized, it will not be used during the forward process\n",
      "[2024/06/24 05:11:42] ppocr WARNING: Since the angle classifier is not initialized, it will not be used during the forward process\n",
      "[2024/06/24 05:11:42] ppocr WARNING: Since the angle classifier is not initialized, it will not be used during the forward process\n",
      "[2024/06/24 05:11:42] ppocr WARNING: Since the angle classifier is not initialized, it will not be used during the forward process\n",
      "[2024/06/24 05:11:42] ppocr WARNING: Since the angle classifier is not initialized, it will not be used during the forward process\n",
      "[2024/06/24 05:11:42] ppocr WARNING: Since the angle classifier is not initialized, it will not be used during the forward process\n",
      "[2024/06/24 05:11:42] ppocr WARNING: Since the angle classifier is not initialized, it will not be used during the forward process\n",
      "[2024/06/24 05:11:42] ppocr WARNING: Since the angle classifier is not initialized, it will not be used during the forward process\n",
      "[2024/06/24 05:11:42] ppocr WARNING: Since the angle classifier is not initialized, it will not be used during the forward process\n",
      "[2024/06/24 05:11:42] ppocr WARNING: Since the angle classifier is not initialized, it will not be used during the forward process\n",
      "[2024/06/24 05:11:42] ppocr WARNING: Since the angle classifier is not initialized, it will not be used during the forward process\n",
      "[2024/06/24 05:11:42] ppocr WARNING: Since the angle classifier is not initialized, it will not be used during the forward process\n",
      "[2024/06/24 05:11:42] ppocr WARNING: Since the angle classifier is not initialized, it will not be used during the forward process\n",
      "[2024/06/24 05:11:42] ppocr WARNING: Since the angle classifier is not initialized, it will not be used during the forward process\n",
      "[2024/06/24 05:11:42] ppocr WARNING: Since the angle classifier is not initialized, it will not be used during the forward process\n",
      "[2024/06/24 05:11:42] ppocr WARNING: Since the angle classifier is not initialized, it will not be used during the forward process\n",
      "[2024/06/24 05:11:42] ppocr WARNING: Since the angle classifier is not initialized, it will not be used during the forward process\n",
      "[2024/06/24 05:11:42] ppocr WARNING: Since the angle classifier is not initialized, it will not be used during the forward process\n",
      "[2024/06/24 05:11:42] ppocr WARNING: Since the angle classifier is not initialized, it will not be used during the forward process\n",
      "[2024/06/24 05:11:42] ppocr WARNING: Since the angle classifier is not initialized, it will not be used during the forward process\n",
      "[2024/06/24 05:11:42] ppocr WARNING: Since the angle classifier is not initialized, it will not be used during the forward process\n",
      "[2024/06/24 05:11:42] ppocr WARNING: Since the angle classifier is not initialized, it will not be used during the forward process\n",
      "[2024/06/24 05:11:42] ppocr WARNING: Since the angle classifier is not initialized, it will not be used during the forward process\n",
      "[2024/06/24 05:11:42] ppocr WARNING: Since the angle classifier is not initialized, it will not be used during the forward process\n",
      "[2024/06/24 05:11:42] ppocr WARNING: Since the angle classifier is not initialized, it will not be used during the forward process\n",
      "[2024/06/24 05:11:42] ppocr WARNING: Since the angle classifier is not initialized, it will not be used during the forward process\n",
      "[2024/06/24 05:11:43] ppocr WARNING: Since the angle classifier is not initialized, it will not be used during the forward process\n",
      "[2024/06/24 05:11:43] ppocr WARNING: Since the angle classifier is not initialized, it will not be used during the forward process\n",
      "[2024/06/24 05:11:43] ppocr WARNING: Since the angle classifier is not initialized, it will not be used during the forward process\n",
      "[2024/06/24 05:11:43] ppocr WARNING: Since the angle classifier is not initialized, it will not be used during the forward process\n",
      "[2024/06/24 05:11:43] ppocr WARNING: Since the angle classifier is not initialized, it will not be used during the forward process\n",
      "[2024/06/24 05:11:43] ppocr WARNING: Since the angle classifier is not initialized, it will not be used during the forward process\n",
      "[2024/06/24 05:11:43] ppocr WARNING: Since the angle classifier is not initialized, it will not be used during the forward process\n",
      "[2024/06/24 05:11:43] ppocr WARNING: Since the angle classifier is not initialized, it will not be used during the forward process\n",
      "[2024/06/24 05:11:43] ppocr WARNING: Since the angle classifier is not initialized, it will not be used during the forward process\n",
      "[2024/06/24 05:11:43] ppocr WARNING: Since the angle classifier is not initialized, it will not be used during the forward process\n",
      "[2024/06/24 05:11:43] ppocr WARNING: Since the angle classifier is not initialized, it will not be used during the forward process\n",
      "[2024/06/24 05:11:43] ppocr WARNING: Since the angle classifier is not initialized, it will not be used during the forward process\n",
      "[2024/06/24 05:11:43] ppocr WARNING: Since the angle classifier is not initialized, it will not be used during the forward process\n",
      "[2024/06/24 05:11:43] ppocr WARNING: Since the angle classifier is not initialized, it will not be used during the forward process\n",
      "[2024/06/24 05:11:43] ppocr WARNING: Since the angle classifier is not initialized, it will not be used during the forward process\n",
      "[2024/06/24 05:11:43] ppocr WARNING: Since the angle classifier is not initialized, it will not be used during the forward process\n",
      "[2024/06/24 05:11:43] ppocr WARNING: Since the angle classifier is not initialized, it will not be used during the forward process\n",
      "[2024/06/24 05:11:43] ppocr WARNING: Since the angle classifier is not initialized, it will not be used during the forward process\n",
      "[2024/06/24 05:11:43] ppocr WARNING: Since the angle classifier is not initialized, it will not be used during the forward process\n",
      "[2024/06/24 05:11:43] ppocr WARNING: Since the angle classifier is not initialized, it will not be used during the forward process\n",
      "[2024/06/24 05:11:43] ppocr WARNING: Since the angle classifier is not initialized, it will not be used during the forward process\n",
      "[2024/06/24 05:11:43] ppocr WARNING: Since the angle classifier is not initialized, it will not be used during the forward process\n",
      "[2024/06/24 05:11:43] ppocr WARNING: Since the angle classifier is not initialized, it will not be used during the forward process\n",
      "[2024/06/24 05:11:43] ppocr WARNING: Since the angle classifier is not initialized, it will not be used during the forward process\n",
      "Execution time: 4.3055 seconds\n"
     ]
    }
   ],
   "source": [
    "elements = infer(\"henry.png\")\n"
   ]
  },
  {
   "cell_type": "code",
   "execution_count": 16,
   "metadata": {},
   "outputs": [],
   "source": [
    "class UIElement:\n",
    "    def __init__(self, element_class, box, text):\n",
    "        self.element_class = element_class\n",
    "        self.x, self.y, self.width, self.height = box\n",
    "        self.text = text\n",
    "        self.children = []\n",
    "\n",
    "    def __repr__(self):\n",
    "        return f\"{self.element_class} ({self.x}, {self.y}, {self.width}, {self.height})\"\n",
    "\n",
    "def is_contained(child, parent):\n",
    "    # Coordinates for the bottom-right corner of child and parent\n",
    "    child_right = child.x + (child.width - child.x)\n",
    "    child_bottom = child.y + (child.height - child.y)\n",
    "    parent_right = parent.x + (parent.width - parent.x)\n",
    "    parent_bottom = parent.y + (parent.height - parent.y)\n",
    "\n",
    "    # Check if child is completely inside parent\n",
    "    return (child.x >= parent.x and child.y >= parent.y and \n",
    "            child_right <= parent_right and child_bottom <= parent_bottom)\n",
    "\n",
    "def find_parent(child, elements):\n",
    "    potential_parents = []\n",
    "    for element in elements:\n",
    "        if element == child:\n",
    "            continue  # An element cannot be its own parent\n",
    "        if is_contained(child, element):\n",
    "            potential_parents.append(element)\n",
    "    \n",
    "    # Return the parent whose area is the smallest yet can fully contain the child\n",
    "    if not potential_parents:\n",
    "        return None\n",
    "\n",
    "    # Sort potential parents by their area, smallest first\n",
    "    potential_parents.sort(key=lambda el: (el.width - el.x) * (el.height - el.y))\n",
    "    # Pick the smallest area element that completely contains the child\n",
    "    return potential_parents[0]\n",
    "\n",
    "\n",
    "def build_tree(elements):\n",
    "    elements = sorted(elements, key=lambda e: (e.width - e.x) * (e.height - e.y))  # Sort elements by area\n",
    "    root = UIElement(\"root\", (0, 0, float('inf'), float('inf')), [])  # Create a root element\n",
    "    for element in elements:\n",
    "        parent = find_parent(element, elements) or root\n",
    "        parent.children.append(element)\n",
    "    return root"
   ]
  },
  {
   "cell_type": "code",
   "execution_count": 15,
   "metadata": {},
   "outputs": [
    {
     "ename": "NameError",
     "evalue": "name 'UIElement' is not defined",
     "output_type": "error",
     "traceback": [
      "\u001b[1;31m---------------------------------------------------------------------------\u001b[0m",
      "\u001b[1;31mNameError\u001b[0m                                 Traceback (most recent call last)",
      "Cell \u001b[1;32mIn[15], line 1\u001b[0m\n\u001b[1;32m----> 1\u001b[0m elems\u001b[38;5;241m=\u001b[39m [UIElement(elt[\u001b[38;5;124m'\u001b[39m\u001b[38;5;124mclass\u001b[39m\u001b[38;5;124m'\u001b[39m], elt[\u001b[38;5;124m'\u001b[39m\u001b[38;5;124mbox\u001b[39m\u001b[38;5;124m'\u001b[39m], elt[\u001b[38;5;124m'\u001b[39m\u001b[38;5;124mtext\u001b[39m\u001b[38;5;124m'\u001b[39m]) \u001b[38;5;28;01mfor\u001b[39;00m elt \u001b[38;5;129;01min\u001b[39;00m elements]\n",
      "Cell \u001b[1;32mIn[15], line 1\u001b[0m, in \u001b[0;36m<listcomp>\u001b[1;34m(.0)\u001b[0m\n\u001b[1;32m----> 1\u001b[0m elems\u001b[38;5;241m=\u001b[39m [\u001b[43mUIElement\u001b[49m(elt[\u001b[38;5;124m'\u001b[39m\u001b[38;5;124mclass\u001b[39m\u001b[38;5;124m'\u001b[39m], elt[\u001b[38;5;124m'\u001b[39m\u001b[38;5;124mbox\u001b[39m\u001b[38;5;124m'\u001b[39m], elt[\u001b[38;5;124m'\u001b[39m\u001b[38;5;124mtext\u001b[39m\u001b[38;5;124m'\u001b[39m]) \u001b[38;5;28;01mfor\u001b[39;00m elt \u001b[38;5;129;01min\u001b[39;00m elements]\n",
      "\u001b[1;31mNameError\u001b[0m: name 'UIElement' is not defined"
     ]
    }
   ],
   "source": [
    "elems= [UIElement(elt['class'], elt['box'], elt['text']) for elt in elements]"
   ]
  },
  {
   "cell_type": "code",
   "execution_count": 11,
   "metadata": {},
   "outputs": [],
   "source": [
    "root= build_tree(elems)\n",
    "\n"
   ]
  },
  {
   "cell_type": "code",
   "execution_count": 12,
   "metadata": {},
   "outputs": [
    {
     "name": "stdout",
     "output_type": "stream",
     "text": [
      "link children: []\n",
      "link children: []\n",
      "link children: []\n",
      "link children: []\n",
      "image children: []\n",
      "link children: []\n",
      "link children: []\n",
      "link children: []\n",
      "image children: []\n",
      "link children: []\n",
      "link children: []\n",
      "image children: []\n",
      "link children: []\n",
      "link children: []\n",
      "image children: []\n",
      "link children: []\n",
      "link children: []\n",
      "link children: []\n",
      "label children: []\n",
      "link children: []\n",
      "link children: []\n",
      "link children: []\n",
      "link children: []\n",
      "image children: []\n",
      "link children: []\n",
      "link children: []\n",
      "link children: []\n",
      "link children: []\n",
      "link children: []\n",
      "label children: []\n",
      "link children: []\n",
      "link children: []\n",
      "link children: []\n",
      "link children: []\n",
      "link children: []\n",
      "link children: []\n",
      "link children: []\n",
      "link children: []\n",
      "link children: []\n",
      "link children: []\n",
      "link children: []\n",
      "link children: []\n",
      "link children: []\n",
      "link children: []\n",
      "label children: [link (1458, 127, 1532, 167)]\n",
      "button children: []\n",
      "link children: []\n",
      "link children: [link (1182, 883, 1272, 900), link (1057, 883, 1185, 900)]\n",
      "link children: []\n",
      "link children: []\n",
      "link children: []\n",
      "image children: []\n",
      "link children: []\n",
      "link children: []\n",
      "link children: [image (1593, 475, 1626, 506)]\n",
      "image children: []\n",
      "text children: [link (317, 618, 373, 638), link (461, 618, 587, 637)]\n",
      "text children: [link (891, 847, 969, 865), link (983, 846, 1057, 865), link (1282, 847, 1359, 866), link (1083, 847, 1267, 865)]\n",
      "text children: [link (927, 765, 997, 784), link (1077, 765, 1252, 785)]\n",
      "link children: [image (200, 50, 364, 67), image (199, 21, 364, 44)]\n",
      "text children: [link (1187, 811, 1260, 833), link (890, 810, 983, 835), link (996, 811, 1171, 834), link (1289, 809, 1480, 834)]\n",
      "text children: []\n",
      "text children: []\n",
      "text children: []\n",
      "text children: [text (907, 692, 1536, 721)]\n",
      "image children: []\n",
      "text children: [link (1045, 730, 1188, 751)]\n",
      "text children: [link (863, 307, 923, 326), link (687, 307, 771, 325), link (852, 275, 999, 298), link (639, 276, 804, 297)]\n",
      "text children: [link (762, 478, 828, 497), link (645, 548, 802, 567), link (314, 582, 543, 603), link (317, 546, 547, 568), link (354, 477, 639, 497), text (72, 508, 840, 536), link (72, 453, 299, 615), image (72, 452, 298, 615)]\n"
     ]
    }
   ],
   "source": [
    "for child in root.children:\n",
    "    print(f\"{child.element_class} children:\", child.children)"
   ]
  },
  {
   "cell_type": "code",
   "execution_count": 14,
   "metadata": {},
   "outputs": [
    {
     "data": {
      "application/vnd.plotly.v1+json": {
       "config": {
        "plotlyServerURL": "https://plot.ly"
       },
       "data": [
        {
         "marker": {
          "size": 15
         },
         "mode": "markers+text",
         "text": [
          "root (0, 0, inf, inf)"
         ],
         "textposition": "bottom center",
         "type": "scatter",
         "x": [
          0
         ],
         "y": [
          0
         ]
        },
        {
         "line": {
          "color": "royalblue",
          "width": 2
         },
         "mode": "lines",
         "type": "scatter",
         "x": [
          0,
          -17.25
         ],
         "y": [
          0,
          -1
         ]
        },
        {
         "marker": {
          "size": 17.5
         },
         "mode": "markers+text",
         "text": [
          "link (91, 760, 127, 778)"
         ],
         "textposition": "bottom center",
         "type": "scatter",
         "x": [
          -17.25
         ],
         "y": [
          -1
         ]
        },
        {
         "line": {
          "color": "royalblue",
          "width": 2
         },
         "mode": "lines",
         "type": "scatter",
         "x": [
          0,
          -16.75
         ],
         "y": [
          0,
          -1
         ]
        },
        {
         "marker": {
          "size": 17.5
         },
         "mode": "markers+text",
         "text": [
          "link (1596, 242, 1627, 265)"
         ],
         "textposition": "bottom center",
         "type": "scatter",
         "x": [
          -16.75
         ],
         "y": [
          -1
         ]
        },
        {
         "line": {
          "color": "royalblue",
          "width": 2
         },
         "mode": "lines",
         "type": "scatter",
         "x": [
          0,
          -16.25
         ],
         "y": [
          0,
          -1
         ]
        },
        {
         "marker": {
          "size": 17.5
         },
         "mode": "markers+text",
         "text": [
          "link (1466, 882, 1504, 901)"
         ],
         "textposition": "bottom center",
         "type": "scatter",
         "x": [
          -16.25
         ],
         "y": [
          -1
         ]
        },
        {
         "line": {
          "color": "royalblue",
          "width": 2
         },
         "mode": "lines",
         "type": "scatter",
         "x": [
          0,
          -15.75
         ],
         "y": [
          0,
          -1
         ]
        },
        {
         "marker": {
          "size": 17.5
         },
         "mode": "markers+text",
         "text": [
          "link (805, 690, 847, 708)"
         ],
         "textposition": "bottom center",
         "type": "scatter",
         "x": [
          -15.75
         ],
         "y": [
          -1
         ]
        },
        {
         "line": {
          "color": "royalblue",
          "width": 2
         },
         "mode": "lines",
         "type": "scatter",
         "x": [
          0,
          -15.25
         ],
         "y": [
          0,
          -1
         ]
        },
        {
         "marker": {
          "size": 17.5
         },
         "mode": "markers+text",
         "text": [
          "image (1597, 334, 1628, 361)"
         ],
         "textposition": "bottom center",
         "type": "scatter",
         "x": [
          -15.25
         ],
         "y": [
          -1
         ]
        },
        {
         "line": {
          "color": "royalblue",
          "width": 2
         },
         "mode": "lines",
         "type": "scatter",
         "x": [
          0,
          -14.75
         ],
         "y": [
          0,
          -1
         ]
        },
        {
         "marker": {
          "size": 17.5
         },
         "mode": "markers+text",
         "text": [
          "link (178, 133, 209, 163)"
         ],
         "textposition": "bottom center",
         "type": "scatter",
         "x": [
          -14.75
         ],
         "y": [
          -1
         ]
        },
        {
         "line": {
          "color": "royalblue",
          "width": 2
         },
         "mode": "lines",
         "type": "scatter",
         "x": [
          0,
          -14.25
         ],
         "y": [
          0,
          -1
         ]
        },
        {
         "marker": {
          "size": 17.5
         },
         "mode": "markers+text",
         "text": [
          "link (763, 795, 813, 814)"
         ],
         "textposition": "bottom center",
         "type": "scatter",
         "x": [
          -14.25
         ],
         "y": [
          -1
         ]
        },
        {
         "line": {
          "color": "royalblue",
          "width": 2
         },
         "mode": "lines",
         "type": "scatter",
         "x": [
          0,
          -13.75
         ],
         "y": [
          0,
          -1
         ]
        },
        {
         "marker": {
          "size": 17.5
         },
         "mode": "markers+text",
         "text": [
          "link (933, 514, 981, 534)"
         ],
         "textposition": "bottom center",
         "type": "scatter",
         "x": [
          -13.75
         ],
         "y": [
          -1
         ]
        },
        {
         "line": {
          "color": "royalblue",
          "width": 2
         },
         "mode": "lines",
         "type": "scatter",
         "x": [
          0,
          -13.25
         ],
         "y": [
          0,
          -1
         ]
        },
        {
         "marker": {
          "size": 17.5
         },
         "mode": "markers+text",
         "text": [
          "image (1593, 287, 1628, 320)"
         ],
         "textposition": "bottom center",
         "type": "scatter",
         "x": [
          -13.25
         ],
         "y": [
          -1
         ]
        },
        {
         "line": {
          "color": "royalblue",
          "width": 2
         },
         "mode": "lines",
         "type": "scatter",
         "x": [
          0,
          -12.75
         ],
         "y": [
          0,
          -1
         ]
        },
        {
         "marker": {
          "size": 17.5
         },
         "mode": "markers+text",
         "text": [
          "link (1594, 429, 1645, 452)"
         ],
         "textposition": "bottom center",
         "type": "scatter",
         "x": [
          -12.75
         ],
         "y": [
          -1
         ]
        },
        {
         "line": {
          "color": "royalblue",
          "width": 2
         },
         "mode": "lines",
         "type": "scatter",
         "x": [
          0,
          -12.25
         ],
         "y": [
          0,
          -1
         ]
        },
        {
         "marker": {
          "size": 17.5
         },
         "mode": "markers+text",
         "text": [
          "link (534, 796, 596, 815)"
         ],
         "textposition": "bottom center",
         "type": "scatter",
         "x": [
          -12.25
         ],
         "y": [
          -1
         ]
        },
        {
         "line": {
          "color": "royalblue",
          "width": 2
         },
         "mode": "lines",
         "type": "scatter",
         "x": [
          0,
          -11.75
         ],
         "y": [
          0,
          -1
         ]
        },
        {
         "marker": {
          "size": 17.5
         },
         "mode": "markers+text",
         "text": [
          "image (1590, 374, 1627, 408)"
         ],
         "textposition": "bottom center",
         "type": "scatter",
         "x": [
          -11.75
         ],
         "y": [
          -1
         ]
        },
        {
         "line": {
          "color": "royalblue",
          "width": 2
         },
         "mode": "lines",
         "type": "scatter",
         "x": [
          0,
          -11.25
         ],
         "y": [
          0,
          -1
         ]
        },
        {
         "marker": {
          "size": 17.5
         },
         "mode": "markers+text",
         "text": [
          "link (1734, 31, 1787, 55)"
         ],
         "textposition": "bottom center",
         "type": "scatter",
         "x": [
          -11.25
         ],
         "y": [
          -1
         ]
        },
        {
         "line": {
          "color": "royalblue",
          "width": 2
         },
         "mode": "lines",
         "type": "scatter",
         "x": [
          0,
          -10.75
         ],
         "y": [
          0,
          -1
         ]
        },
        {
         "marker": {
          "size": 17.5
         },
         "mode": "markers+text",
         "text": [
          "link (647, 796, 722, 814)"
         ],
         "textposition": "bottom center",
         "type": "scatter",
         "x": [
          -10.75
         ],
         "y": [
          -1
         ]
        },
        {
         "line": {
          "color": "royalblue",
          "width": 2
         },
         "mode": "lines",
         "type": "scatter",
         "x": [
          0,
          -10.25
         ],
         "y": [
          0,
          -1
         ]
        },
        {
         "marker": {
          "size": 17.5
         },
         "mode": "markers+text",
         "text": [
          "image (1588, 516, 1627, 552)"
         ],
         "textposition": "bottom center",
         "type": "scatter",
         "x": [
          -10.25
         ],
         "y": [
          -1
         ]
        },
        {
         "line": {
          "color": "royalblue",
          "width": 2
         },
         "mode": "lines",
         "type": "scatter",
         "x": [
          0,
          -9.75
         ],
         "y": [
          0,
          -1
         ]
        },
        {
         "marker": {
          "size": 17.5
         },
         "mode": "markers+text",
         "text": [
          "link (448, 796, 524, 815)"
         ],
         "textposition": "bottom center",
         "type": "scatter",
         "x": [
          -9.75
         ],
         "y": [
          -1
         ]
        },
        {
         "line": {
          "color": "royalblue",
          "width": 2
         },
         "mode": "lines",
         "type": "scatter",
         "x": [
          0,
          -9.25
         ],
         "y": [
          0,
          -1
         ]
        },
        {
         "marker": {
          "size": 17.5
         },
         "mode": "markers+text",
         "text": [
          "link (557, 759, 634, 778)"
         ],
         "textposition": "bottom center",
         "type": "scatter",
         "x": [
          -9.25
         ],
         "y": [
          -1
         ]
        },
        {
         "line": {
          "color": "royalblue",
          "width": 2
         },
         "mode": "lines",
         "type": "scatter",
         "x": [
          0,
          -8.75
         ],
         "y": [
          0,
          -1
         ]
        },
        {
         "marker": {
          "size": 17.5
         },
         "mode": "markers+text",
         "text": [
          "link (336, 724, 418, 743)"
         ],
         "textposition": "bottom center",
         "type": "scatter",
         "x": [
          -8.75
         ],
         "y": [
          -1
         ]
        },
        {
         "line": {
          "color": "royalblue",
          "width": 2
         },
         "mode": "lines",
         "type": "scatter",
         "x": [
          0,
          -8.25
         ],
         "y": [
          0,
          -1
         ]
        },
        {
         "marker": {
          "size": 17.5
         },
         "mode": "markers+text",
         "text": [
          "label (53, 23, 94, 61)"
         ],
         "textposition": "bottom center",
         "type": "scatter",
         "x": [
          -8.25
         ],
         "y": [
          -1
         ]
        },
        {
         "line": {
          "color": "royalblue",
          "width": 2
         },
         "mode": "lines",
         "type": "scatter",
         "x": [
          0,
          -7.75
         ],
         "y": [
          0,
          -1
         ]
        },
        {
         "marker": {
          "size": 17.5
         },
         "mode": "markers+text",
         "text": [
          "link (1619, 290, 1679, 316)"
         ],
         "textposition": "bottom center",
         "type": "scatter",
         "x": [
          -7.75
         ],
         "y": [
          -1
         ]
        },
        {
         "line": {
          "color": "royalblue",
          "width": 2
         },
         "mode": "lines",
         "type": "scatter",
         "x": [
          0,
          -7.25
         ],
         "y": [
          0,
          -1
         ]
        },
        {
         "marker": {
          "size": 17.5
         },
         "mode": "markers+text",
         "text": [
          "link (73, 829, 144, 851)"
         ],
         "textposition": "bottom center",
         "type": "scatter",
         "x": [
          -7.25
         ],
         "y": [
          -1
         ]
        },
        {
         "line": {
          "color": "royalblue",
          "width": 2
         },
         "mode": "lines",
         "type": "scatter",
         "x": [
          0,
          -6.75
         ],
         "y": [
          0,
          -1
         ]
        },
        {
         "marker": {
          "size": 17.5
         },
         "mode": "markers+text",
         "text": [
          "link (1243, 513, 1316, 535)"
         ],
         "textposition": "bottom center",
         "type": "scatter",
         "x": [
          -6.75
         ],
         "y": [
          -1
         ]
        },
        {
         "line": {
          "color": "royalblue",
          "width": 2
         },
         "mode": "lines",
         "type": "scatter",
         "x": [
          0,
          -6.25
         ],
         "y": [
          0,
          -1
         ]
        },
        {
         "marker": {
          "size": 17.5
         },
         "mode": "markers+text",
         "text": [
          "link (687, 759, 774, 778)"
         ],
         "textposition": "bottom center",
         "type": "scatter",
         "x": [
          -6.25
         ],
         "y": [
          -1
         ]
        },
        {
         "line": {
          "color": "royalblue",
          "width": 2
         },
         "mode": "lines",
         "type": "scatter",
         "x": [
          0,
          -5.75
         ],
         "y": [
          0,
          -1
         ]
        },
        {
         "marker": {
          "size": 17.5
         },
         "mode": "markers+text",
         "text": [
          "image (1617, 521, 1676, 550)"
         ],
         "textposition": "bottom center",
         "type": "scatter",
         "x": [
          -5.75
         ],
         "y": [
          -1
         ]
        },
        {
         "line": {
          "color": "royalblue",
          "width": 2
         },
         "mode": "lines",
         "type": "scatter",
         "x": [
          0,
          -5.25
         ],
         "y": [
          0,
          -1
         ]
        },
        {
         "marker": {
          "size": 17.5
         },
         "mode": "markers+text",
         "text": [
          "link (680, 654, 766, 674)"
         ],
         "textposition": "bottom center",
         "type": "scatter",
         "x": [
          -5.25
         ],
         "y": [
          -1
         ]
        },
        {
         "line": {
          "color": "royalblue",
          "width": 2
         },
         "mode": "lines",
         "type": "scatter",
         "x": [
          0,
          -4.75
         ],
         "y": [
          0,
          -1
         ]
        },
        {
         "marker": {
          "size": 17.5
         },
         "mode": "markers+text",
         "text": [
          "link (1027, 442, 1109, 463)"
         ],
         "textposition": "bottom center",
         "type": "scatter",
         "x": [
          -4.75
         ],
         "y": [
          -1
         ]
        },
        {
         "line": {
          "color": "royalblue",
          "width": 2
         },
         "mode": "lines",
         "type": "scatter",
         "x": [
          0,
          -4.25
         ],
         "y": [
          0,
          -1
         ]
        },
        {
         "marker": {
          "size": 17.5
         },
         "mode": "markers+text",
         "text": [
          "link (204, 796, 301, 814)"
         ],
         "textposition": "bottom center",
         "type": "scatter",
         "x": [
          -4.25
         ],
         "y": [
          -1
         ]
        },
        {
         "line": {
          "color": "royalblue",
          "width": 2
         },
         "mode": "lines",
         "type": "scatter",
         "x": [
          0,
          -3.75
         ],
         "y": [
          0,
          -1
         ]
        },
        {
         "marker": {
          "size": 17.5
         },
         "mode": "markers+text",
         "text": [
          "link (112, 128, 157, 168)"
         ],
         "textposition": "bottom center",
         "type": "scatter",
         "x": [
          -3.75
         ],
         "y": [
          -1
         ]
        },
        {
         "line": {
          "color": "royalblue",
          "width": 2
         },
         "mode": "lines",
         "type": "scatter",
         "x": [
          0,
          -3.25
         ],
         "y": [
          0,
          -1
         ]
        },
        {
         "marker": {
          "size": 17.5
         },
         "mode": "markers+text",
         "text": [
          "link (290, 864, 391, 883)"
         ],
         "textposition": "bottom center",
         "type": "scatter",
         "x": [
          -3.25
         ],
         "y": [
          -1
         ]
        },
        {
         "line": {
          "color": "royalblue",
          "width": 2
         },
         "mode": "lines",
         "type": "scatter",
         "x": [
          0,
          -2.75
         ],
         "y": [
          0,
          -1
         ]
        },
        {
         "marker": {
          "size": 17.5
         },
         "mode": "markers+text",
         "text": [
          "label (1796, 21, 1842, 63)"
         ],
         "textposition": "bottom center",
         "type": "scatter",
         "x": [
          -2.75
         ],
         "y": [
          -1
         ]
        },
        {
         "line": {
          "color": "royalblue",
          "width": 2
         },
         "mode": "lines",
         "type": "scatter",
         "x": [
          0,
          -2.25
         ],
         "y": [
          0,
          -1
         ]
        },
        {
         "marker": {
          "size": 17.5
         },
         "mode": "markers+text",
         "text": [
          "link (177, 864, 280, 884)"
         ],
         "textposition": "bottom center",
         "type": "scatter",
         "x": [
          -2.25
         ],
         "y": [
          -1
         ]
        },
        {
         "line": {
          "color": "royalblue",
          "width": 2
         },
         "mode": "lines",
         "type": "scatter",
         "x": [
          0,
          -1.75
         ],
         "y": [
          0,
          -1
         ]
        },
        {
         "marker": {
          "size": 17.5
         },
         "mode": "markers+text",
         "text": [
          "link (567, 898, 729, 911)"
         ],
         "textposition": "bottom center",
         "type": "scatter",
         "x": [
          -1.75
         ],
         "y": [
          -1
         ]
        },
        {
         "line": {
          "color": "royalblue",
          "width": 2
         },
         "mode": "lines",
         "type": "scatter",
         "x": [
          0,
          -1.25
         ],
         "y": [
          0,
          -1
         ]
        },
        {
         "marker": {
          "size": 17.5
         },
         "mode": "markers+text",
         "text": [
          "link (1146, 126, 1194, 170)"
         ],
         "textposition": "bottom center",
         "type": "scatter",
         "x": [
          -1.25
         ],
         "y": [
          -1
         ]
        },
        {
         "line": {
          "color": "royalblue",
          "width": 2
         },
         "mode": "lines",
         "type": "scatter",
         "x": [
          0,
          -0.75
         ],
         "y": [
          0,
          -1
         ]
        },
        {
         "marker": {
          "size": 17.5
         },
         "mode": "markers+text",
         "text": [
          "link (73, 862, 162, 886)"
         ],
         "textposition": "bottom center",
         "type": "scatter",
         "x": [
          -0.75
         ],
         "y": [
          -1
         ]
        },
        {
         "line": {
          "color": "royalblue",
          "width": 2
         },
         "mode": "lines",
         "type": "scatter",
         "x": [
          0,
          -0.25
         ],
         "y": [
          0,
          -1
         ]
        },
        {
         "marker": {
          "size": 17.5
         },
         "mode": "markers+text",
         "text": [
          "link (1012, 549, 1125, 568)"
         ],
         "textposition": "bottom center",
         "type": "scatter",
         "x": [
          -0.25
         ],
         "y": [
          -1
         ]
        },
        {
         "line": {
          "color": "royalblue",
          "width": 2
         },
         "mode": "lines",
         "type": "scatter",
         "x": [
          0,
          0.25
         ],
         "y": [
          0,
          -1
         ]
        },
        {
         "marker": {
          "size": 17.5
         },
         "mode": "markers+text",
         "text": [
          "link (1131, 588, 1247, 607)"
         ],
         "textposition": "bottom center",
         "type": "scatter",
         "x": [
          0.25
         ],
         "y": [
          -1
         ]
        },
        {
         "line": {
          "color": "royalblue",
          "width": 2
         },
         "mode": "lines",
         "type": "scatter",
         "x": [
          0,
          0.75
         ],
         "y": [
          0,
          -1
         ]
        },
        {
         "marker": {
          "size": 17.5
         },
         "mode": "markers+text",
         "text": [
          "link (73, 722, 182, 744)"
         ],
         "textposition": "bottom center",
         "type": "scatter",
         "x": [
          0.75
         ],
         "y": [
          -1
         ]
        },
        {
         "line": {
          "color": "royalblue",
          "width": 2
         },
         "mode": "lines",
         "type": "scatter",
         "x": [
          0,
          1.25
         ],
         "y": [
          0,
          -1
         ]
        },
        {
         "marker": {
          "size": 17.5
         },
         "mode": "markers+text",
         "text": [
          "link (927, 588, 1063, 607)"
         ],
         "textposition": "bottom center",
         "type": "scatter",
         "x": [
          1.25
         ],
         "y": [
          -1
         ]
        },
        {
         "line": {
          "color": "royalblue",
          "width": 2
         },
         "mode": "lines",
         "type": "scatter",
         "x": [
          0,
          1.75
         ],
         "y": [
          0,
          -1
         ]
        },
        {
         "marker": {
          "size": 17.5
         },
         "mode": "markers+text",
         "text": [
          "link (1592, 33, 1726, 53)"
         ],
         "textposition": "bottom center",
         "type": "scatter",
         "x": [
          1.75
         ],
         "y": [
          -1
         ]
        },
        {
         "line": {
          "color": "royalblue",
          "width": 2
         },
         "mode": "lines",
         "type": "scatter",
         "x": [
          0,
          2.25
         ],
         "y": [
          0,
          -1
         ]
        },
        {
         "marker": {
          "size": 17.5
         },
         "mode": "markers+text",
         "text": [
          "link (927, 657, 1074, 676)"
         ],
         "textposition": "bottom center",
         "type": "scatter",
         "x": [
          2.25
         ],
         "y": [
          -1
         ]
        },
        {
         "line": {
          "color": "royalblue",
          "width": 2
         },
         "mode": "lines",
         "type": "scatter",
         "x": [
          0,
          2.75
         ],
         "y": [
          0,
          -1
         ]
        },
        {
         "marker": {
          "size": 17.5
         },
         "mode": "markers+text",
         "text": [
          "link (890, 882, 1041, 901)"
         ],
         "textposition": "bottom center",
         "type": "scatter",
         "x": [
          2.75
         ],
         "y": [
          -1
         ]
        },
        {
         "line": {
          "color": "royalblue",
          "width": 2
         },
         "mode": "lines",
         "type": "scatter",
         "x": [
          0,
          3.25
         ],
         "y": [
          0,
          -1
         ]
        },
        {
         "marker": {
          "size": 17.5
         },
         "mode": "markers+text",
         "text": [
          "link (71, 793, 192, 817)"
         ],
         "textposition": "bottom center",
         "type": "scatter",
         "x": [
          3.25
         ],
         "y": [
          -1
         ]
        },
        {
         "line": {
          "color": "royalblue",
          "width": 2
         },
         "mode": "lines",
         "type": "scatter",
         "x": [
          0,
          3.75
         ],
         "y": [
          0,
          -1
         ]
        },
        {
         "marker": {
          "size": 17.5
         },
         "mode": "markers+text",
         "text": [
          "link (1291, 882, 1446, 901)"
         ],
         "textposition": "bottom center",
         "type": "scatter",
         "x": [
          3.75
         ],
         "y": [
          -1
         ]
        },
        {
         "line": {
          "color": "royalblue",
          "width": 2
         },
         "mode": "lines",
         "type": "scatter",
         "x": [
          0,
          4.25
         ],
         "y": [
          0,
          -1
         ]
        },
        {
         "marker": {
          "size": 17.5
         },
         "mode": "markers+text",
         "text": [
          "link (1181, 440, 1299, 465)"
         ],
         "textposition": "bottom center",
         "type": "scatter",
         "x": [
          4.25
         ],
         "y": [
          -1
         ]
        },
        {
         "line": {
          "color": "royalblue",
          "width": 2
         },
         "mode": "lines",
         "type": "scatter",
         "x": [
          0,
          4.75
         ],
         "y": [
          0,
          -1
         ]
        },
        {
         "marker": {
          "size": 17.5
         },
         "mode": "markers+text",
         "text": [
          "label (1458, 127, 1535, 167)"
         ],
         "textposition": "bottom center",
         "type": "scatter",
         "x": [
          4.75
         ],
         "y": [
          -1
         ]
        },
        {
         "line": {
          "color": "royalblue",
          "width": 2
         },
         "mode": "lines",
         "type": "scatter",
         "x": [
          4.75,
          4.583333333333333
         ],
         "y": [
          -1,
          -1.6666666666666665
         ]
        },
        {
         "marker": {
          "size": 20
         },
         "mode": "markers+text",
         "text": [
          "link (1458, 127, 1532, 167)"
         ],
         "textposition": "bottom center",
         "type": "scatter",
         "x": [
          4.583333333333333
         ],
         "y": [
          -1.6666666666666665
         ]
        },
        {
         "line": {
          "color": "royalblue",
          "width": 2
         },
         "mode": "lines",
         "type": "scatter",
         "x": [
          0,
          5.25
         ],
         "y": [
          0,
          -1
         ]
        },
        {
         "marker": {
          "size": 17.5
         },
         "mode": "markers+text",
         "text": [
          "button (1016, 27, 1105, 63)"
         ],
         "textposition": "bottom center",
         "type": "scatter",
         "x": [
          5.25
         ],
         "y": [
          -1
         ]
        },
        {
         "line": {
          "color": "royalblue",
          "width": 2
         },
         "mode": "lines",
         "type": "scatter",
         "x": [
          0,
          5.75
         ],
         "y": [
          0,
          -1
         ]
        },
        {
         "marker": {
          "size": 17.5
         },
         "mode": "markers+text",
         "text": [
          "link (318, 688, 479, 709)"
         ],
         "textposition": "bottom center",
         "type": "scatter",
         "x": [
          5.75
         ],
         "y": [
          -1
         ]
        },
        {
         "line": {
          "color": "royalblue",
          "width": 2
         },
         "mode": "lines",
         "type": "scatter",
         "x": [
          0,
          6.25
         ],
         "y": [
          0,
          -1
         ]
        },
        {
         "marker": {
          "size": 17.5
         },
         "mode": "markers+text",
         "text": [
          "link (1056, 883, 1274, 900)"
         ],
         "textposition": "bottom center",
         "type": "scatter",
         "x": [
          6.25
         ],
         "y": [
          -1
         ]
        },
        {
         "line": {
          "color": "royalblue",
          "width": 2
         },
         "mode": "lines",
         "type": "scatter",
         "x": [
          6.25,
          5.916666666666667
         ],
         "y": [
          -1,
          -1.6666666666666665
         ]
        },
        {
         "marker": {
          "size": 20
         },
         "mode": "markers+text",
         "text": [
          "link (1182, 883, 1272, 900)"
         ],
         "textposition": "bottom center",
         "type": "scatter",
         "x": [
          5.916666666666667
         ],
         "y": [
          -1.6666666666666665
         ]
        },
        {
         "line": {
          "color": "royalblue",
          "width": 2
         },
         "mode": "lines",
         "type": "scatter",
         "x": [
          6.25,
          6.25
         ],
         "y": [
          -1,
          -1.6666666666666665
         ]
        },
        {
         "marker": {
          "size": 20
         },
         "mode": "markers+text",
         "text": [
          "link (1057, 883, 1185, 900)"
         ],
         "textposition": "bottom center",
         "type": "scatter",
         "x": [
          6.25
         ],
         "y": [
          -1.6666666666666665
         ]
        },
        {
         "line": {
          "color": "royalblue",
          "width": 2
         },
         "mode": "lines",
         "type": "scatter",
         "x": [
          0,
          6.75
         ],
         "y": [
          0,
          -1
         ]
        },
        {
         "marker": {
          "size": 17.5
         },
         "mode": "markers+text",
         "text": [
          "link (567, 688, 748, 709)"
         ],
         "textposition": "bottom center",
         "type": "scatter",
         "x": [
          6.75
         ],
         "y": [
          -1
         ]
        },
        {
         "line": {
          "color": "royalblue",
          "width": 2
         },
         "mode": "lines",
         "type": "scatter",
         "x": [
          0,
          7.25
         ],
         "y": [
          0,
          -1
         ]
        },
        {
         "marker": {
          "size": 17.5
         },
         "mode": "markers+text",
         "text": [
          "link (1336, 127, 1438, 166)"
         ],
         "textposition": "bottom center",
         "type": "scatter",
         "x": [
          7.25
         ],
         "y": [
          -1
         ]
        },
        {
         "line": {
          "color": "royalblue",
          "width": 2
         },
         "mode": "lines",
         "type": "scatter",
         "x": [
          0,
          7.75
         ],
         "y": [
          0,
          -1
         ]
        },
        {
         "marker": {
          "size": 17.5
         },
         "mode": "markers+text",
         "text": [
          "link (1214, 127, 1318, 166)"
         ],
         "textposition": "bottom center",
         "type": "scatter",
         "x": [
          7.75
         ],
         "y": [
          -1
         ]
        },
        {
         "line": {
          "color": "royalblue",
          "width": 2
         },
         "mode": "lines",
         "type": "scatter",
         "x": [
          0,
          8.25
         ],
         "y": [
          0,
          -1
         ]
        },
        {
         "marker": {
          "size": 17.5
         },
         "mode": "markers+text",
         "text": [
          "image (114, 11, 183, 77)"
         ],
         "textposition": "bottom center",
         "type": "scatter",
         "x": [
          8.25
         ],
         "y": [
          -1
         ]
        },
        {
         "line": {
          "color": "royalblue",
          "width": 2
         },
         "mode": "lines",
         "type": "scatter",
         "x": [
          0,
          8.75
         ],
         "y": [
          0,
          -1
         ]
        },
        {
         "marker": {
          "size": 17.5
         },
         "mode": "markers+text",
         "text": [
          "link (821, 218, 976, 254)"
         ],
         "textposition": "bottom center",
         "type": "scatter",
         "x": [
          8.75
         ],
         "y": [
          -1
         ]
        },
        {
         "line": {
          "color": "royalblue",
          "width": 2
         },
         "mode": "lines",
         "type": "scatter",
         "x": [
          0,
          9.25
         ],
         "y": [
          0,
          -1
         ]
        },
        {
         "marker": {
          "size": 17.5
         },
         "mode": "markers+text",
         "text": [
          "link (365, 439, 711, 464)"
         ],
         "textposition": "bottom center",
         "type": "scatter",
         "x": [
          9.25
         ],
         "y": [
          -1
         ]
        },
        {
         "line": {
          "color": "royalblue",
          "width": 2
         },
         "mode": "lines",
         "type": "scatter",
         "x": [
          0,
          9.75
         ],
         "y": [
          0,
          -1
         ]
        },
        {
         "marker": {
          "size": 17.5
         },
         "mode": "markers+text",
         "text": [
          "link (1588, 472, 1850, 509)"
         ],
         "textposition": "bottom center",
         "type": "scatter",
         "x": [
          9.75
         ],
         "y": [
          -1
         ]
        },
        {
         "line": {
          "color": "royalblue",
          "width": 2
         },
         "mode": "lines",
         "type": "scatter",
         "x": [
          9.75,
          9.583333333333334
         ],
         "y": [
          -1,
          -1.6666666666666665
         ]
        },
        {
         "marker": {
          "size": 20
         },
         "mode": "markers+text",
         "text": [
          "image (1593, 475, 1626, 506)"
         ],
         "textposition": "bottom center",
         "type": "scatter",
         "x": [
          9.583333333333334
         ],
         "y": [
          -1.6666666666666665
         ]
        },
        {
         "line": {
          "color": "royalblue",
          "width": 2
         },
         "mode": "lines",
         "type": "scatter",
         "x": [
          0,
          10.25
         ],
         "y": [
          0,
          -1
         ]
        },
        {
         "marker": {
          "size": 17.5
         },
         "mode": "markers+text",
         "text": [
          "image (82, 379, 440, 415)"
         ],
         "textposition": "bottom center",
         "type": "scatter",
         "x": [
          10.25
         ],
         "y": [
          -1
         ]
        },
        {
         "line": {
          "color": "royalblue",
          "width": 2
         },
         "mode": "lines",
         "type": "scatter",
         "x": [
          0,
          10.75
         ],
         "y": [
          0,
          -1
         ]
        },
        {
         "marker": {
          "size": 17.5
         },
         "mode": "markers+text",
         "text": [
          "text (234, 615, 852, 642)"
         ],
         "textposition": "bottom center",
         "type": "scatter",
         "x": [
          10.75
         ],
         "y": [
          -1
         ]
        },
        {
         "line": {
          "color": "royalblue",
          "width": 2
         },
         "mode": "lines",
         "type": "scatter",
         "x": [
          10.75,
          10.416666666666666
         ],
         "y": [
          -1,
          -1.6666666666666665
         ]
        },
        {
         "marker": {
          "size": 20
         },
         "mode": "markers+text",
         "text": [
          "link (317, 618, 373, 638)"
         ],
         "textposition": "bottom center",
         "type": "scatter",
         "x": [
          10.416666666666666
         ],
         "y": [
          -1.6666666666666665
         ]
        },
        {
         "line": {
          "color": "royalblue",
          "width": 2
         },
         "mode": "lines",
         "type": "scatter",
         "x": [
          10.75,
          10.75
         ],
         "y": [
          -1,
          -1.6666666666666665
         ]
        },
        {
         "marker": {
          "size": 20
         },
         "mode": "markers+text",
         "text": [
          "link (461, 618, 587, 637)"
         ],
         "textposition": "bottom center",
         "type": "scatter",
         "x": [
          10.75
         ],
         "y": [
          -1.6666666666666665
         ]
        },
        {
         "line": {
          "color": "royalblue",
          "width": 2
         },
         "mode": "lines",
         "type": "scatter",
         "x": [
          0,
          11.25
         ],
         "y": [
          0,
          -1
         ]
        },
        {
         "marker": {
          "size": 17.5
         },
         "mode": "markers+text",
         "text": [
          "text (883, 842, 1539, 869)"
         ],
         "textposition": "bottom center",
         "type": "scatter",
         "x": [
          11.25
         ],
         "y": [
          -1
         ]
        },
        {
         "line": {
          "color": "royalblue",
          "width": 2
         },
         "mode": "lines",
         "type": "scatter",
         "x": [
          11.25,
          10.583333333333334
         ],
         "y": [
          -1,
          -1.6666666666666665
         ]
        },
        {
         "marker": {
          "size": 20
         },
         "mode": "markers+text",
         "text": [
          "link (891, 847, 969, 865)"
         ],
         "textposition": "bottom center",
         "type": "scatter",
         "x": [
          10.583333333333334
         ],
         "y": [
          -1.6666666666666665
         ]
        },
        {
         "line": {
          "color": "royalblue",
          "width": 2
         },
         "mode": "lines",
         "type": "scatter",
         "x": [
          11.25,
          10.916666666666666
         ],
         "y": [
          -1,
          -1.6666666666666665
         ]
        },
        {
         "marker": {
          "size": 20
         },
         "mode": "markers+text",
         "text": [
          "link (983, 846, 1057, 865)"
         ],
         "textposition": "bottom center",
         "type": "scatter",
         "x": [
          10.916666666666666
         ],
         "y": [
          -1.6666666666666665
         ]
        },
        {
         "line": {
          "color": "royalblue",
          "width": 2
         },
         "mode": "lines",
         "type": "scatter",
         "x": [
          11.25,
          11.25
         ],
         "y": [
          -1,
          -1.6666666666666665
         ]
        },
        {
         "marker": {
          "size": 20
         },
         "mode": "markers+text",
         "text": [
          "link (1282, 847, 1359, 866)"
         ],
         "textposition": "bottom center",
         "type": "scatter",
         "x": [
          11.25
         ],
         "y": [
          -1.6666666666666665
         ]
        },
        {
         "line": {
          "color": "royalblue",
          "width": 2
         },
         "mode": "lines",
         "type": "scatter",
         "x": [
          11.25,
          11.583333333333334
         ],
         "y": [
          -1,
          -1.6666666666666665
         ]
        },
        {
         "marker": {
          "size": 20
         },
         "mode": "markers+text",
         "text": [
          "link (1083, 847, 1267, 865)"
         ],
         "textposition": "bottom center",
         "type": "scatter",
         "x": [
          11.583333333333334
         ],
         "y": [
          -1.6666666666666665
         ]
        },
        {
         "line": {
          "color": "royalblue",
          "width": 2
         },
         "mode": "lines",
         "type": "scatter",
         "x": [
          0,
          11.75
         ],
         "y": [
          0,
          -1
         ]
        },
        {
         "marker": {
          "size": 17.5
         },
         "mode": "markers+text",
         "text": [
          "text (903, 757, 1533, 789)"
         ],
         "textposition": "bottom center",
         "type": "scatter",
         "x": [
          11.75
         ],
         "y": [
          -1
         ]
        },
        {
         "line": {
          "color": "royalblue",
          "width": 2
         },
         "mode": "lines",
         "type": "scatter",
         "x": [
          11.75,
          11.416666666666666
         ],
         "y": [
          -1,
          -1.6666666666666665
         ]
        },
        {
         "marker": {
          "size": 20
         },
         "mode": "markers+text",
         "text": [
          "link (927, 765, 997, 784)"
         ],
         "textposition": "bottom center",
         "type": "scatter",
         "x": [
          11.416666666666666
         ],
         "y": [
          -1.6666666666666665
         ]
        },
        {
         "line": {
          "color": "royalblue",
          "width": 2
         },
         "mode": "lines",
         "type": "scatter",
         "x": [
          11.75,
          11.75
         ],
         "y": [
          -1,
          -1.6666666666666665
         ]
        },
        {
         "marker": {
          "size": 20
         },
         "mode": "markers+text",
         "text": [
          "link (1077, 765, 1252, 785)"
         ],
         "textposition": "bottom center",
         "type": "scatter",
         "x": [
          11.75
         ],
         "y": [
          -1.6666666666666665
         ]
        },
        {
         "line": {
          "color": "royalblue",
          "width": 2
         },
         "mode": "lines",
         "type": "scatter",
         "x": [
          0,
          12.25
         ],
         "y": [
          0,
          -1
         ]
        },
        {
         "marker": {
          "size": 17.5
         },
         "mode": "markers+text",
         "text": [
          "link (116, 10, 417, 77)"
         ],
         "textposition": "bottom center",
         "type": "scatter",
         "x": [
          12.25
         ],
         "y": [
          -1
         ]
        },
        {
         "line": {
          "color": "royalblue",
          "width": 2
         },
         "mode": "lines",
         "type": "scatter",
         "x": [
          12.25,
          11.916666666666666
         ],
         "y": [
          -1,
          -1.6666666666666665
         ]
        },
        {
         "marker": {
          "size": 20
         },
         "mode": "markers+text",
         "text": [
          "image (200, 50, 364, 67)"
         ],
         "textposition": "bottom center",
         "type": "scatter",
         "x": [
          11.916666666666666
         ],
         "y": [
          -1.6666666666666665
         ]
        },
        {
         "line": {
          "color": "royalblue",
          "width": 2
         },
         "mode": "lines",
         "type": "scatter",
         "x": [
          12.25,
          12.25
         ],
         "y": [
          -1,
          -1.6666666666666665
         ]
        },
        {
         "marker": {
          "size": 20
         },
         "mode": "markers+text",
         "text": [
          "image (199, 21, 364, 44)"
         ],
         "textposition": "bottom center",
         "type": "scatter",
         "x": [
          12.25
         ],
         "y": [
          -1.6666666666666665
         ]
        },
        {
         "line": {
          "color": "royalblue",
          "width": 2
         },
         "mode": "lines",
         "type": "scatter",
         "x": [
          0,
          12.75
         ],
         "y": [
          0,
          -1
         ]
        },
        {
         "marker": {
          "size": 17.5
         },
         "mode": "markers+text",
         "text": [
          "text (856, 804, 1531, 838)"
         ],
         "textposition": "bottom center",
         "type": "scatter",
         "x": [
          12.75
         ],
         "y": [
          -1
         ]
        },
        {
         "line": {
          "color": "royalblue",
          "width": 2
         },
         "mode": "lines",
         "type": "scatter",
         "x": [
          12.75,
          12.083333333333334
         ],
         "y": [
          -1,
          -1.6666666666666665
         ]
        },
        {
         "marker": {
          "size": 20
         },
         "mode": "markers+text",
         "text": [
          "link (1187, 811, 1260, 833)"
         ],
         "textposition": "bottom center",
         "type": "scatter",
         "x": [
          12.083333333333334
         ],
         "y": [
          -1.6666666666666665
         ]
        },
        {
         "line": {
          "color": "royalblue",
          "width": 2
         },
         "mode": "lines",
         "type": "scatter",
         "x": [
          12.75,
          12.416666666666666
         ],
         "y": [
          -1,
          -1.6666666666666665
         ]
        },
        {
         "marker": {
          "size": 20
         },
         "mode": "markers+text",
         "text": [
          "link (890, 810, 983, 835)"
         ],
         "textposition": "bottom center",
         "type": "scatter",
         "x": [
          12.416666666666666
         ],
         "y": [
          -1.6666666666666665
         ]
        },
        {
         "line": {
          "color": "royalblue",
          "width": 2
         },
         "mode": "lines",
         "type": "scatter",
         "x": [
          12.75,
          12.75
         ],
         "y": [
          -1,
          -1.6666666666666665
         ]
        },
        {
         "marker": {
          "size": 20
         },
         "mode": "markers+text",
         "text": [
          "link (996, 811, 1171, 834)"
         ],
         "textposition": "bottom center",
         "type": "scatter",
         "x": [
          12.75
         ],
         "y": [
          -1.6666666666666665
         ]
        },
        {
         "line": {
          "color": "royalblue",
          "width": 2
         },
         "mode": "lines",
         "type": "scatter",
         "x": [
          12.75,
          13.083333333333334
         ],
         "y": [
          -1,
          -1.6666666666666665
         ]
        },
        {
         "marker": {
          "size": 20
         },
         "mode": "markers+text",
         "text": [
          "link (1289, 809, 1480, 834)"
         ],
         "textposition": "bottom center",
         "type": "scatter",
         "x": [
          13.083333333333334
         ],
         "y": [
          -1.6666666666666665
         ]
        },
        {
         "line": {
          "color": "royalblue",
          "width": 2
         },
         "mode": "lines",
         "type": "scatter",
         "x": [
          0,
          13.25
         ],
         "y": [
          0,
          -1
         ]
        },
        {
         "marker": {
          "size": 17.5
         },
         "mode": "markers+text",
         "text": [
          "text (885, 829, 1523, 870)"
         ],
         "textposition": "bottom center",
         "type": "scatter",
         "x": [
          13.25
         ],
         "y": [
          -1
         ]
        },
        {
         "line": {
          "color": "royalblue",
          "width": 2
         },
         "mode": "lines",
         "type": "scatter",
         "x": [
          0,
          13.75
         ],
         "y": [
          0,
          -1
         ]
        },
        {
         "marker": {
          "size": 17.5
         },
         "mode": "markers+text",
         "text": [
          "text (75, 380, 856, 416)"
         ],
         "textposition": "bottom center",
         "type": "scatter",
         "x": [
          13.75
         ],
         "y": [
          -1
         ]
        },
        {
         "line": {
          "color": "royalblue",
          "width": 2
         },
         "mode": "lines",
         "type": "scatter",
         "x": [
          0,
          14.25
         ],
         "y": [
          0,
          -1
         ]
        },
        {
         "marker": {
          "size": 17.5
         },
         "mode": "markers+text",
         "text": [
          "text (886, 805, 1515, 854)"
         ],
         "textposition": "bottom center",
         "type": "scatter",
         "x": [
          14.25
         ],
         "y": [
          -1
         ]
        },
        {
         "line": {
          "color": "royalblue",
          "width": 2
         },
         "mode": "lines",
         "type": "scatter",
         "x": [
          0,
          14.75
         ],
         "y": [
          0,
          -1
         ]
        },
        {
         "marker": {
          "size": 17.5
         },
         "mode": "markers+text",
         "text": [
          "text (903, 691, 1548, 744)"
         ],
         "textposition": "bottom center",
         "type": "scatter",
         "x": [
          14.75
         ],
         "y": [
          -1
         ]
        },
        {
         "line": {
          "color": "royalblue",
          "width": 2
         },
         "mode": "lines",
         "type": "scatter",
         "x": [
          14.75,
          14.583333333333334
         ],
         "y": [
          -1,
          -1.6666666666666665
         ]
        },
        {
         "marker": {
          "size": 20
         },
         "mode": "markers+text",
         "text": [
          "text (907, 692, 1536, 721)"
         ],
         "textposition": "bottom center",
         "type": "scatter",
         "x": [
          14.583333333333334
         ],
         "y": [
          -1.6666666666666665
         ]
        },
        {
         "line": {
          "color": "royalblue",
          "width": 2
         },
         "mode": "lines",
         "type": "scatter",
         "x": [
          14.583333333333334,
          14.208333333333334
         ],
         "y": [
          -1.6666666666666665,
          -2.1666666666666665
         ]
        },
        {
         "marker": {
          "size": 22.5
         },
         "mode": "markers+text",
         "text": [
          "link (952, 696, 1010, 716)"
         ],
         "textposition": "bottom center",
         "type": "scatter",
         "x": [
          14.208333333333334
         ],
         "y": [
          -2.1666666666666665
         ]
        },
        {
         "line": {
          "color": "royalblue",
          "width": 2
         },
         "mode": "lines",
         "type": "scatter",
         "x": [
          14.583333333333334,
          14.458333333333334
         ],
         "y": [
          -1.6666666666666665,
          -2.1666666666666665
         ]
        },
        {
         "marker": {
          "size": 22.5
         },
         "mode": "markers+text",
         "text": [
          "link (1023, 696, 1137, 716)"
         ],
         "textposition": "bottom center",
         "type": "scatter",
         "x": [
          14.458333333333334
         ],
         "y": [
          -2.1666666666666665
         ]
        },
        {
         "line": {
          "color": "royalblue",
          "width": 2
         },
         "mode": "lines",
         "type": "scatter",
         "x": [
          14.583333333333334,
          14.708333333333334
         ],
         "y": [
          -1.6666666666666665,
          -2.1666666666666665
         ]
        },
        {
         "marker": {
          "size": 22.5
         },
         "mode": "markers+text",
         "text": [
          "link (1194, 697, 1318, 716)"
         ],
         "textposition": "bottom center",
         "type": "scatter",
         "x": [
          14.708333333333334
         ],
         "y": [
          -2.1666666666666665
         ]
        },
        {
         "line": {
          "color": "royalblue",
          "width": 2
         },
         "mode": "lines",
         "type": "scatter",
         "x": [
          0,
          15.25
         ],
         "y": [
          0,
          -1
         ]
        },
        {
         "marker": {
          "size": 17.5
         },
         "mode": "markers+text",
         "text": [
          "image (1366, 438, 1532, 665)"
         ],
         "textposition": "bottom center",
         "type": "scatter",
         "x": [
          15.25
         ],
         "y": [
          -1
         ]
        },
        {
         "line": {
          "color": "royalblue",
          "width": 2
         },
         "mode": "lines",
         "type": "scatter",
         "x": [
          0,
          15.75
         ],
         "y": [
          0,
          -1
         ]
        },
        {
         "marker": {
          "size": 17.5
         },
         "mode": "markers+text",
         "text": [
          "text (908, 691, 1550, 779)"
         ],
         "textposition": "bottom center",
         "type": "scatter",
         "x": [
          15.75
         ],
         "y": [
          -1
         ]
        },
        {
         "line": {
          "color": "royalblue",
          "width": 2
         },
         "mode": "lines",
         "type": "scatter",
         "x": [
          15.75,
          15.583333333333334
         ],
         "y": [
          -1,
          -1.6666666666666665
         ]
        },
        {
         "marker": {
          "size": 20
         },
         "mode": "markers+text",
         "text": [
          "link (1045, 730, 1188, 751)"
         ],
         "textposition": "bottom center",
         "type": "scatter",
         "x": [
          15.583333333333334
         ],
         "y": [
          -1.6666666666666665
         ]
        },
        {
         "line": {
          "color": "royalblue",
          "width": 2
         },
         "mode": "lines",
         "type": "scatter",
         "x": [
          0,
          16.25
         ],
         "y": [
          0,
          -1
         ]
        },
        {
         "marker": {
          "size": 17.5
         },
         "mode": "markers+text",
         "text": [
          "text (108, 270, 1537, 329)"
         ],
         "textposition": "bottom center",
         "type": "scatter",
         "x": [
          16.25
         ],
         "y": [
          -1
         ]
        },
        {
         "line": {
          "color": "royalblue",
          "width": 2
         },
         "mode": "lines",
         "type": "scatter",
         "x": [
          16.25,
          15.583333333333334
         ],
         "y": [
          -1,
          -1.6666666666666665
         ]
        },
        {
         "marker": {
          "size": 20
         },
         "mode": "markers+text",
         "text": [
          "link (863, 307, 923, 326)"
         ],
         "textposition": "bottom center",
         "type": "scatter",
         "x": [
          15.583333333333334
         ],
         "y": [
          -1.6666666666666665
         ]
        },
        {
         "line": {
          "color": "royalblue",
          "width": 2
         },
         "mode": "lines",
         "type": "scatter",
         "x": [
          16.25,
          15.916666666666666
         ],
         "y": [
          -1,
          -1.6666666666666665
         ]
        },
        {
         "marker": {
          "size": 20
         },
         "mode": "markers+text",
         "text": [
          "link (687, 307, 771, 325)"
         ],
         "textposition": "bottom center",
         "type": "scatter",
         "x": [
          15.916666666666666
         ],
         "y": [
          -1.6666666666666665
         ]
        },
        {
         "line": {
          "color": "royalblue",
          "width": 2
         },
         "mode": "lines",
         "type": "scatter",
         "x": [
          16.25,
          16.25
         ],
         "y": [
          -1,
          -1.6666666666666665
         ]
        },
        {
         "marker": {
          "size": 20
         },
         "mode": "markers+text",
         "text": [
          "link (852, 275, 999, 298)"
         ],
         "textposition": "bottom center",
         "type": "scatter",
         "x": [
          16.25
         ],
         "y": [
          -1.6666666666666665
         ]
        },
        {
         "line": {
          "color": "royalblue",
          "width": 2
         },
         "mode": "lines",
         "type": "scatter",
         "x": [
          16.25,
          16.583333333333332
         ],
         "y": [
          -1,
          -1.6666666666666665
         ]
        },
        {
         "marker": {
          "size": 20
         },
         "mode": "markers+text",
         "text": [
          "link (639, 276, 804, 297)"
         ],
         "textposition": "bottom center",
         "type": "scatter",
         "x": [
          16.583333333333332
         ],
         "y": [
          -1.6666666666666665
         ]
        },
        {
         "line": {
          "color": "royalblue",
          "width": 2
         },
         "mode": "lines",
         "type": "scatter",
         "x": [
          0,
          16.75
         ],
         "y": [
          0,
          -1
         ]
        },
        {
         "marker": {
          "size": 17.5
         },
         "mode": "markers+text",
         "text": [
          "text (72, 443, 847, 620)"
         ],
         "textposition": "bottom center",
         "type": "scatter",
         "x": [
          16.75
         ],
         "y": [
          -1
         ]
        },
        {
         "line": {
          "color": "royalblue",
          "width": 2
         },
         "mode": "lines",
         "type": "scatter",
         "x": [
          16.75,
          15.416666666666666
         ],
         "y": [
          -1,
          -1.6666666666666665
         ]
        },
        {
         "marker": {
          "size": 20
         },
         "mode": "markers+text",
         "text": [
          "link (762, 478, 828, 497)"
         ],
         "textposition": "bottom center",
         "type": "scatter",
         "x": [
          15.416666666666666
         ],
         "y": [
          -1.6666666666666665
         ]
        },
        {
         "line": {
          "color": "royalblue",
          "width": 2
         },
         "mode": "lines",
         "type": "scatter",
         "x": [
          16.75,
          15.75
         ],
         "y": [
          -1,
          -1.6666666666666665
         ]
        },
        {
         "marker": {
          "size": 20
         },
         "mode": "markers+text",
         "text": [
          "link (645, 548, 802, 567)"
         ],
         "textposition": "bottom center",
         "type": "scatter",
         "x": [
          15.75
         ],
         "y": [
          -1.6666666666666665
         ]
        },
        {
         "line": {
          "color": "royalblue",
          "width": 2
         },
         "mode": "lines",
         "type": "scatter",
         "x": [
          16.75,
          16.083333333333332
         ],
         "y": [
          -1,
          -1.6666666666666665
         ]
        },
        {
         "marker": {
          "size": 20
         },
         "mode": "markers+text",
         "text": [
          "link (314, 582, 543, 603)"
         ],
         "textposition": "bottom center",
         "type": "scatter",
         "x": [
          16.083333333333332
         ],
         "y": [
          -1.6666666666666665
         ]
        },
        {
         "line": {
          "color": "royalblue",
          "width": 2
         },
         "mode": "lines",
         "type": "scatter",
         "x": [
          16.75,
          16.416666666666668
         ],
         "y": [
          -1,
          -1.6666666666666665
         ]
        },
        {
         "marker": {
          "size": 20
         },
         "mode": "markers+text",
         "text": [
          "link (317, 546, 547, 568)"
         ],
         "textposition": "bottom center",
         "type": "scatter",
         "x": [
          16.416666666666668
         ],
         "y": [
          -1.6666666666666665
         ]
        },
        {
         "line": {
          "color": "royalblue",
          "width": 2
         },
         "mode": "lines",
         "type": "scatter",
         "x": [
          16.75,
          16.75
         ],
         "y": [
          -1,
          -1.6666666666666665
         ]
        },
        {
         "marker": {
          "size": 20
         },
         "mode": "markers+text",
         "text": [
          "link (354, 477, 639, 497)"
         ],
         "textposition": "bottom center",
         "type": "scatter",
         "x": [
          16.75
         ],
         "y": [
          -1.6666666666666665
         ]
        },
        {
         "line": {
          "color": "royalblue",
          "width": 2
         },
         "mode": "lines",
         "type": "scatter",
         "x": [
          16.75,
          16.625
         ],
         "y": [
          -1.6666666666666665,
          -2.1666666666666665
         ]
        },
        {
         "marker": {
          "size": 22.5
         },
         "mode": "markers+text",
         "text": [
          "link (357, 477, 536, 497)"
         ],
         "textposition": "bottom center",
         "type": "scatter",
         "x": [
          16.625
         ],
         "y": [
          -2.1666666666666665
         ]
        },
        {
         "line": {
          "color": "royalblue",
          "width": 2
         },
         "mode": "lines",
         "type": "scatter",
         "x": [
          16.75,
          17.083333333333332
         ],
         "y": [
          -1,
          -1.6666666666666665
         ]
        },
        {
         "marker": {
          "size": 20
         },
         "mode": "markers+text",
         "text": [
          "text (72, 508, 840, 536)"
         ],
         "textposition": "bottom center",
         "type": "scatter",
         "x": [
          17.083333333333332
         ],
         "y": [
          -1.6666666666666665
         ]
        },
        {
         "line": {
          "color": "royalblue",
          "width": 2
         },
         "mode": "lines",
         "type": "scatter",
         "x": [
          17.083333333333332,
          16.958333333333332
         ],
         "y": [
          -1.6666666666666665,
          -2.1666666666666665
         ]
        },
        {
         "marker": {
          "size": 22.5
         },
         "mode": "markers+text",
         "text": [
          "link (726, 512, 771, 532)"
         ],
         "textposition": "bottom center",
         "type": "scatter",
         "x": [
          16.958333333333332
         ],
         "y": [
          -2.1666666666666665
         ]
        },
        {
         "line": {
          "color": "royalblue",
          "width": 2
         },
         "mode": "lines",
         "type": "scatter",
         "x": [
          16.75,
          17.416666666666668
         ],
         "y": [
          -1,
          -1.6666666666666665
         ]
        },
        {
         "marker": {
          "size": 20
         },
         "mode": "markers+text",
         "text": [
          "link (72, 453, 299, 615)"
         ],
         "textposition": "bottom center",
         "type": "scatter",
         "x": [
          17.416666666666668
         ],
         "y": [
          -1.6666666666666665
         ]
        },
        {
         "line": {
          "color": "royalblue",
          "width": 2
         },
         "mode": "lines",
         "type": "scatter",
         "x": [
          16.75,
          17.75
         ],
         "y": [
          -1,
          -1.6666666666666665
         ]
        },
        {
         "marker": {
          "size": 20
         },
         "mode": "markers+text",
         "text": [
          "image (72, 452, 298, 615)"
         ],
         "textposition": "bottom center",
         "type": "scatter",
         "x": [
          17.75
         ],
         "y": [
          -1.6666666666666665
         ]
        }
       ],
       "layout": {
        "showlegend": false,
        "template": {
         "data": {
          "bar": [
           {
            "error_x": {
             "color": "#2a3f5f"
            },
            "error_y": {
             "color": "#2a3f5f"
            },
            "marker": {
             "line": {
              "color": "#E5ECF6",
              "width": 0.5
             },
             "pattern": {
              "fillmode": "overlay",
              "size": 10,
              "solidity": 0.2
             }
            },
            "type": "bar"
           }
          ],
          "barpolar": [
           {
            "marker": {
             "line": {
              "color": "#E5ECF6",
              "width": 0.5
             },
             "pattern": {
              "fillmode": "overlay",
              "size": 10,
              "solidity": 0.2
             }
            },
            "type": "barpolar"
           }
          ],
          "carpet": [
           {
            "aaxis": {
             "endlinecolor": "#2a3f5f",
             "gridcolor": "white",
             "linecolor": "white",
             "minorgridcolor": "white",
             "startlinecolor": "#2a3f5f"
            },
            "baxis": {
             "endlinecolor": "#2a3f5f",
             "gridcolor": "white",
             "linecolor": "white",
             "minorgridcolor": "white",
             "startlinecolor": "#2a3f5f"
            },
            "type": "carpet"
           }
          ],
          "choropleth": [
           {
            "colorbar": {
             "outlinewidth": 0,
             "ticks": ""
            },
            "type": "choropleth"
           }
          ],
          "contour": [
           {
            "colorbar": {
             "outlinewidth": 0,
             "ticks": ""
            },
            "colorscale": [
             [
              0,
              "#0d0887"
             ],
             [
              0.1111111111111111,
              "#46039f"
             ],
             [
              0.2222222222222222,
              "#7201a8"
             ],
             [
              0.3333333333333333,
              "#9c179e"
             ],
             [
              0.4444444444444444,
              "#bd3786"
             ],
             [
              0.5555555555555556,
              "#d8576b"
             ],
             [
              0.6666666666666666,
              "#ed7953"
             ],
             [
              0.7777777777777778,
              "#fb9f3a"
             ],
             [
              0.8888888888888888,
              "#fdca26"
             ],
             [
              1,
              "#f0f921"
             ]
            ],
            "type": "contour"
           }
          ],
          "contourcarpet": [
           {
            "colorbar": {
             "outlinewidth": 0,
             "ticks": ""
            },
            "type": "contourcarpet"
           }
          ],
          "heatmap": [
           {
            "colorbar": {
             "outlinewidth": 0,
             "ticks": ""
            },
            "colorscale": [
             [
              0,
              "#0d0887"
             ],
             [
              0.1111111111111111,
              "#46039f"
             ],
             [
              0.2222222222222222,
              "#7201a8"
             ],
             [
              0.3333333333333333,
              "#9c179e"
             ],
             [
              0.4444444444444444,
              "#bd3786"
             ],
             [
              0.5555555555555556,
              "#d8576b"
             ],
             [
              0.6666666666666666,
              "#ed7953"
             ],
             [
              0.7777777777777778,
              "#fb9f3a"
             ],
             [
              0.8888888888888888,
              "#fdca26"
             ],
             [
              1,
              "#f0f921"
             ]
            ],
            "type": "heatmap"
           }
          ],
          "heatmapgl": [
           {
            "colorbar": {
             "outlinewidth": 0,
             "ticks": ""
            },
            "colorscale": [
             [
              0,
              "#0d0887"
             ],
             [
              0.1111111111111111,
              "#46039f"
             ],
             [
              0.2222222222222222,
              "#7201a8"
             ],
             [
              0.3333333333333333,
              "#9c179e"
             ],
             [
              0.4444444444444444,
              "#bd3786"
             ],
             [
              0.5555555555555556,
              "#d8576b"
             ],
             [
              0.6666666666666666,
              "#ed7953"
             ],
             [
              0.7777777777777778,
              "#fb9f3a"
             ],
             [
              0.8888888888888888,
              "#fdca26"
             ],
             [
              1,
              "#f0f921"
             ]
            ],
            "type": "heatmapgl"
           }
          ],
          "histogram": [
           {
            "marker": {
             "pattern": {
              "fillmode": "overlay",
              "size": 10,
              "solidity": 0.2
             }
            },
            "type": "histogram"
           }
          ],
          "histogram2d": [
           {
            "colorbar": {
             "outlinewidth": 0,
             "ticks": ""
            },
            "colorscale": [
             [
              0,
              "#0d0887"
             ],
             [
              0.1111111111111111,
              "#46039f"
             ],
             [
              0.2222222222222222,
              "#7201a8"
             ],
             [
              0.3333333333333333,
              "#9c179e"
             ],
             [
              0.4444444444444444,
              "#bd3786"
             ],
             [
              0.5555555555555556,
              "#d8576b"
             ],
             [
              0.6666666666666666,
              "#ed7953"
             ],
             [
              0.7777777777777778,
              "#fb9f3a"
             ],
             [
              0.8888888888888888,
              "#fdca26"
             ],
             [
              1,
              "#f0f921"
             ]
            ],
            "type": "histogram2d"
           }
          ],
          "histogram2dcontour": [
           {
            "colorbar": {
             "outlinewidth": 0,
             "ticks": ""
            },
            "colorscale": [
             [
              0,
              "#0d0887"
             ],
             [
              0.1111111111111111,
              "#46039f"
             ],
             [
              0.2222222222222222,
              "#7201a8"
             ],
             [
              0.3333333333333333,
              "#9c179e"
             ],
             [
              0.4444444444444444,
              "#bd3786"
             ],
             [
              0.5555555555555556,
              "#d8576b"
             ],
             [
              0.6666666666666666,
              "#ed7953"
             ],
             [
              0.7777777777777778,
              "#fb9f3a"
             ],
             [
              0.8888888888888888,
              "#fdca26"
             ],
             [
              1,
              "#f0f921"
             ]
            ],
            "type": "histogram2dcontour"
           }
          ],
          "mesh3d": [
           {
            "colorbar": {
             "outlinewidth": 0,
             "ticks": ""
            },
            "type": "mesh3d"
           }
          ],
          "parcoords": [
           {
            "line": {
             "colorbar": {
              "outlinewidth": 0,
              "ticks": ""
             }
            },
            "type": "parcoords"
           }
          ],
          "pie": [
           {
            "automargin": true,
            "type": "pie"
           }
          ],
          "scatter": [
           {
            "fillpattern": {
             "fillmode": "overlay",
             "size": 10,
             "solidity": 0.2
            },
            "type": "scatter"
           }
          ],
          "scatter3d": [
           {
            "line": {
             "colorbar": {
              "outlinewidth": 0,
              "ticks": ""
             }
            },
            "marker": {
             "colorbar": {
              "outlinewidth": 0,
              "ticks": ""
             }
            },
            "type": "scatter3d"
           }
          ],
          "scattercarpet": [
           {
            "marker": {
             "colorbar": {
              "outlinewidth": 0,
              "ticks": ""
             }
            },
            "type": "scattercarpet"
           }
          ],
          "scattergeo": [
           {
            "marker": {
             "colorbar": {
              "outlinewidth": 0,
              "ticks": ""
             }
            },
            "type": "scattergeo"
           }
          ],
          "scattergl": [
           {
            "marker": {
             "colorbar": {
              "outlinewidth": 0,
              "ticks": ""
             }
            },
            "type": "scattergl"
           }
          ],
          "scattermapbox": [
           {
            "marker": {
             "colorbar": {
              "outlinewidth": 0,
              "ticks": ""
             }
            },
            "type": "scattermapbox"
           }
          ],
          "scatterpolar": [
           {
            "marker": {
             "colorbar": {
              "outlinewidth": 0,
              "ticks": ""
             }
            },
            "type": "scatterpolar"
           }
          ],
          "scatterpolargl": [
           {
            "marker": {
             "colorbar": {
              "outlinewidth": 0,
              "ticks": ""
             }
            },
            "type": "scatterpolargl"
           }
          ],
          "scatterternary": [
           {
            "marker": {
             "colorbar": {
              "outlinewidth": 0,
              "ticks": ""
             }
            },
            "type": "scatterternary"
           }
          ],
          "surface": [
           {
            "colorbar": {
             "outlinewidth": 0,
             "ticks": ""
            },
            "colorscale": [
             [
              0,
              "#0d0887"
             ],
             [
              0.1111111111111111,
              "#46039f"
             ],
             [
              0.2222222222222222,
              "#7201a8"
             ],
             [
              0.3333333333333333,
              "#9c179e"
             ],
             [
              0.4444444444444444,
              "#bd3786"
             ],
             [
              0.5555555555555556,
              "#d8576b"
             ],
             [
              0.6666666666666666,
              "#ed7953"
             ],
             [
              0.7777777777777778,
              "#fb9f3a"
             ],
             [
              0.8888888888888888,
              "#fdca26"
             ],
             [
              1,
              "#f0f921"
             ]
            ],
            "type": "surface"
           }
          ],
          "table": [
           {
            "cells": {
             "fill": {
              "color": "#EBF0F8"
             },
             "line": {
              "color": "white"
             }
            },
            "header": {
             "fill": {
              "color": "#C8D4E3"
             },
             "line": {
              "color": "white"
             }
            },
            "type": "table"
           }
          ]
         },
         "layout": {
          "annotationdefaults": {
           "arrowcolor": "#2a3f5f",
           "arrowhead": 0,
           "arrowwidth": 1
          },
          "autotypenumbers": "strict",
          "coloraxis": {
           "colorbar": {
            "outlinewidth": 0,
            "ticks": ""
           }
          },
          "colorscale": {
           "diverging": [
            [
             0,
             "#8e0152"
            ],
            [
             0.1,
             "#c51b7d"
            ],
            [
             0.2,
             "#de77ae"
            ],
            [
             0.3,
             "#f1b6da"
            ],
            [
             0.4,
             "#fde0ef"
            ],
            [
             0.5,
             "#f7f7f7"
            ],
            [
             0.6,
             "#e6f5d0"
            ],
            [
             0.7,
             "#b8e186"
            ],
            [
             0.8,
             "#7fbc41"
            ],
            [
             0.9,
             "#4d9221"
            ],
            [
             1,
             "#276419"
            ]
           ],
           "sequential": [
            [
             0,
             "#0d0887"
            ],
            [
             0.1111111111111111,
             "#46039f"
            ],
            [
             0.2222222222222222,
             "#7201a8"
            ],
            [
             0.3333333333333333,
             "#9c179e"
            ],
            [
             0.4444444444444444,
             "#bd3786"
            ],
            [
             0.5555555555555556,
             "#d8576b"
            ],
            [
             0.6666666666666666,
             "#ed7953"
            ],
            [
             0.7777777777777778,
             "#fb9f3a"
            ],
            [
             0.8888888888888888,
             "#fdca26"
            ],
            [
             1,
             "#f0f921"
            ]
           ],
           "sequentialminus": [
            [
             0,
             "#0d0887"
            ],
            [
             0.1111111111111111,
             "#46039f"
            ],
            [
             0.2222222222222222,
             "#7201a8"
            ],
            [
             0.3333333333333333,
             "#9c179e"
            ],
            [
             0.4444444444444444,
             "#bd3786"
            ],
            [
             0.5555555555555556,
             "#d8576b"
            ],
            [
             0.6666666666666666,
             "#ed7953"
            ],
            [
             0.7777777777777778,
             "#fb9f3a"
            ],
            [
             0.8888888888888888,
             "#fdca26"
            ],
            [
             1,
             "#f0f921"
            ]
           ]
          },
          "colorway": [
           "#636efa",
           "#EF553B",
           "#00cc96",
           "#ab63fa",
           "#FFA15A",
           "#19d3f3",
           "#FF6692",
           "#B6E880",
           "#FF97FF",
           "#FECB52"
          ],
          "font": {
           "color": "#2a3f5f"
          },
          "geo": {
           "bgcolor": "white",
           "lakecolor": "white",
           "landcolor": "#E5ECF6",
           "showlakes": true,
           "showland": true,
           "subunitcolor": "white"
          },
          "hoverlabel": {
           "align": "left"
          },
          "hovermode": "closest",
          "mapbox": {
           "style": "light"
          },
          "paper_bgcolor": "white",
          "plot_bgcolor": "#E5ECF6",
          "polar": {
           "angularaxis": {
            "gridcolor": "white",
            "linecolor": "white",
            "ticks": ""
           },
           "bgcolor": "#E5ECF6",
           "radialaxis": {
            "gridcolor": "white",
            "linecolor": "white",
            "ticks": ""
           }
          },
          "scene": {
           "xaxis": {
            "backgroundcolor": "#E5ECF6",
            "gridcolor": "white",
            "gridwidth": 2,
            "linecolor": "white",
            "showbackground": true,
            "ticks": "",
            "zerolinecolor": "white"
           },
           "yaxis": {
            "backgroundcolor": "#E5ECF6",
            "gridcolor": "white",
            "gridwidth": 2,
            "linecolor": "white",
            "showbackground": true,
            "ticks": "",
            "zerolinecolor": "white"
           },
           "zaxis": {
            "backgroundcolor": "#E5ECF6",
            "gridcolor": "white",
            "gridwidth": 2,
            "linecolor": "white",
            "showbackground": true,
            "ticks": "",
            "zerolinecolor": "white"
           }
          },
          "shapedefaults": {
           "line": {
            "color": "#2a3f5f"
           }
          },
          "ternary": {
           "aaxis": {
            "gridcolor": "white",
            "linecolor": "white",
            "ticks": ""
           },
           "baxis": {
            "gridcolor": "white",
            "linecolor": "white",
            "ticks": ""
           },
           "bgcolor": "#E5ECF6",
           "caxis": {
            "gridcolor": "white",
            "linecolor": "white",
            "ticks": ""
           }
          },
          "title": {
           "x": 0.05
          },
          "xaxis": {
           "automargin": true,
           "gridcolor": "white",
           "linecolor": "white",
           "ticks": "",
           "title": {
            "standoff": 15
           },
           "zerolinecolor": "white",
           "zerolinewidth": 2
          },
          "yaxis": {
           "automargin": true,
           "gridcolor": "white",
           "linecolor": "white",
           "ticks": "",
           "title": {
            "standoff": 15
           },
           "zerolinecolor": "white",
           "zerolinewidth": 2
          }
         }
        }
       }
      }
     },
     "metadata": {},
     "output_type": "display_data"
    }
   ],
   "source": [
    "def add_node_trace(go_fig, parent, x=0, y=0, level=1):\n",
    "    go_fig.add_trace(go.Scatter(x=[x], y=[y],\n",
    "                                text=[str(parent)],\n",
    "                                mode='markers+text',\n",
    "                                textposition=\"bottom center\",\n",
    "                                marker=dict(size=10 + level * 5)))\n",
    "    i = 0\n",
    "    n = len(parent.children)\n",
    "    for child in parent.children:\n",
    "        child_x = x + (i - n/2) * (0.5/level)\n",
    "        child_y = y - 1 / level\n",
    "        go_fig.add_trace(go.Scatter(x=[x, child_x], y=[y, child_y], mode='lines',\n",
    "                                    line=dict(color='royalblue', width=2)))\n",
    "        add_node_trace(go_fig, child, x=child_x, y=child_y, level=level+0.5)\n",
    "        i += 1\n",
    "\n",
    "fig = go.Figure()\n",
    "add_node_trace(fig, root)\n",
    "fig.update_layout(showlegend=False)\n",
    "fig.show()"
   ]
  },
  {
   "cell_type": "code",
   "execution_count": 15,
   "metadata": {},
   "outputs": [],
   "source": [
    "def calculate_center(x1, y1, x2, y2):\n",
    "    \"\"\"\n",
    "    Calculate the center of a bounding box.\n",
    "\n",
    "    Parameters:\n",
    "    - x1, y1: Coordinates of the top-left corner.\n",
    "    - x2, y2: Coordinates of the bottom-right corner.\n",
    "\n",
    "    Returns:\n",
    "    - (cx, cy): Coordinates of the center.\n",
    "    \"\"\"\n",
    "    cx = (x1 + x2) / 2\n",
    "    cy = (y1 + y2) / 2\n",
    "    return (cx, cy)"
   ]
  },
  {
   "cell_type": "code",
   "execution_count": 17,
   "metadata": {},
   "outputs": [],
   "source": [
    "\n",
    "from selenium import webdriver\n",
    "from selenium.webdriver.chrome.service import Service\n",
    "\n",
    "options = webdriver.ChromeOptions()\n",
    "options.add_argument('--headless')\n",
    "options.add_argument('--no-sandbox')\n",
    "options.add_argument('--disable-dev-shm-usage')\n",
    "driver = webdriver.Chrome(options=options)"
   ]
  },
  {
   "cell_type": "code",
   "execution_count": 19,
   "metadata": {},
   "outputs": [
    {
     "data": {
      "image/png": "[encoded data removed]",
      "text/plain": [
       "<IPython.core.display.Image object>"
      ]
     },
     "metadata": {},
     "output_type": "display_data"
    }
   ],
   "source": [
    "\n",
    "driver.set_window_size(1920,1080)\n",
    "driver.get(\"https://en.wikipedia.org/wiki/Henry_V_of_England\")\n",
    "\n",
    "# Take a screenshot and save it\n",
    "screenshot_path = \"henry.png\"\n",
    "driver.save_screenshot(screenshot_path)\n",
    "\n",
    "# Close the browser\n",
    "\n",
    "# Display the screenshot in Colab\n",
    "from IPython.display import Image, display\n",
    "display(Image(filename=screenshot_path))\n"
   ]
  },
  {
   "cell_type": "code",
   "execution_count": 70,
   "metadata": {},
   "outputs": [],
   "source": [
    "def find_element(elements, element_type, search_text, threshold=30):\n",
    "    \"\"\"\n",
    "    Finds the element of a certain type with the highest similarity to the search_text using fuzzy matching.\n",
    "    \n",
    "    :param elements: List of UIElement objects.\n",
    "    :param element_type: The type of the element to match.\n",
    "    :param search_text: The text to search for within the elements.\n",
    "    :param threshold: The minimum matching score to consider (default 80).\n",
    "    :return: The element with the highest similarity score above the threshold or None if no match is found.\n",
    "    \"\"\"\n",
    "    best_match = None\n",
    "    highest_score = threshold  # Start with the threshold as the lowest acceptable score\n",
    "\n",
    "    for element in elements:\n",
    "        if element[\"class\"].lower() == element_type.lower():\n",
    "            print(\"YES\")\n",
    "            matches = process.extract(search_text, element[\"text\"], limit=None)\n",
    "            for match in matches:\n",
    "                text, score = match\n",
    "                if score >= highest_score:\n",
    "                    highest_score = score\n",
    "                    best_match = element\n",
    "\n",
    "    return best_match"
   ]
  },
  {
   "cell_type": "code",
   "execution_count": 71,
   "metadata": {},
   "outputs": [],
   "source": [
    "from PIL import Image, ImageDraw\n",
    "\n",
    "def draw_bounding_box(image_path, box, box_color='red', line_thickness=5):\n",
    "    \"\"\"\n",
    "    Draws a bounding box on an image.\n",
    "    \n",
    "    :param image_path: Path to the original image file.\n",
    "    :param box: A tuple (x, y, width, height) defining the bounding box.\n",
    "    :param output_path: Path where the modified image will be saved.\n",
    "    :param box_color: Color of the bounding box (default is 'red').\n",
    "    :param line_thickness: Thickness of the box lines (default is 5).\n",
    "    \"\"\"\n",
    "    # Open the image\n",
    "    with Image.open(image_path) as img:\n",
    "        draw = ImageDraw.Draw(img)\n",
    "        # Calculate the bottom right coordinates\n",
    "        draw.rectangle(box, outline=box_color, width=line_thickness)\n",
    "        # Draw the rectangle\n",
    "        # Save the image with the bounding box\n",
    "        img.show()\n",
    "\n"
   ]
  },
  {
   "cell_type": "code",
   "execution_count": 72,
   "metadata": {},
   "outputs": [
    {
     "name": "stdout",
     "output_type": "stream",
     "text": [
      "YES\n",
      "YES\n",
      "YES\n",
      "YES\n",
      "YES\n"
     ]
    },
    {
     "ename": "TypeError",
     "evalue": "'NoneType' object is not subscriptable",
     "output_type": "error",
     "traceback": [
      "\u001b[1;31m---------------------------------------------------------------------------\u001b[0m",
      "\u001b[1;31mTypeError\u001b[0m                                 Traceback (most recent call last)",
      "Cell \u001b[1;32mIn[72], line 2\u001b[0m\n\u001b[0;32m      1\u001b[0m elem \u001b[38;5;241m=\u001b[39m find_element(elements,\u001b[38;5;124m'\u001b[39m\u001b[38;5;124mimage\u001b[39m\u001b[38;5;124m'\u001b[39m,\u001b[38;5;124m'\u001b[39m\u001b[38;5;124m'\u001b[39m,\u001b[38;5;241m30\u001b[39m)\n\u001b[1;32m----> 2\u001b[0m draw_bounding_box(\u001b[38;5;124m\"\u001b[39m\u001b[38;5;124mhenry.png\u001b[39m\u001b[38;5;124m\"\u001b[39m,\u001b[43melem\u001b[49m\u001b[43m[\u001b[49m\u001b[38;5;124;43m\"\u001b[39;49m\u001b[38;5;124;43mbox\u001b[39;49m\u001b[38;5;124;43m\"\u001b[39;49m\u001b[43m]\u001b[49m)\n",
      "\u001b[1;31mTypeError\u001b[0m: 'NoneType' object is not subscriptable"
     ]
    }
   ],
   "source": [
    "elem = find_element(elements,'image','',30)\n",
    "draw_bounding_box(\"henry.png\",elem[\"box\"])"
   ]
  },
  {
   "cell_type": "code",
   "execution_count": null,
   "metadata": {},
   "outputs": [],
   "source": []
  }
 ],
 "metadata": {
  "kernelspec": {
   "display_name": "wikipedia",
   "language": "python",
   "name": "python3"
  },
  "language_info": {
   "codemirror_mode": {
    "name": "ipython",
    "version": 3
   },
   "file_extension": ".py",
   "mimetype": "text/x-python",
   "name": "python",
   "nbconvert_exporter": "python",
   "pygments_lexer": "ipython3",
   "version": "3.9.19"
  }
 },
 "nbformat": 4,
 "nbformat_minor": 2
}
